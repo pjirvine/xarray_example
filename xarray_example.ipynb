{
 "cells": [
  {
   "cell_type": "markdown",
   "metadata": {},
   "source": [
    "# Processing, saving and plotting netcdfs with xarray\n",
    "\n",
    "This notebook has example code to access, process, save and plot netcdf files."
   ]
  },
  {
   "cell_type": "markdown",
   "metadata": {},
   "source": [
    "## First, load modules"
   ]
  },
  {
   "cell_type": "code",
   "execution_count": 1,
   "metadata": {},
   "outputs": [],
   "source": [
    "import matplotlib.pyplot as plt\n",
    "import numpy as np\n",
    "import xarray as xr\n",
    "import os\n",
    "import glob\n",
    "import matplotlib.pyplot as plt\n",
    "import cartopy.crs as ccrs\n",
    "import cartopy.feature as cfeature\n",
    "# import cf\n",
    "# import cfplot as cfp\n",
    "import xclim\n",
    "import pandas as pd\n",
    "\n",
    "from nc_processing import *\n",
    "from analysis import * \n",
    "from plotting import *\n",
    "\n",
    "%matplotlib inline"
   ]
  },
  {
   "cell_type": "markdown",
   "metadata": {},
   "source": [
    "## Define the directory and filename from specifications"
   ]
  },
  {
   "cell_type": "code",
   "execution_count": 2,
   "metadata": {},
   "outputs": [],
   "source": [
    "# define the data directory to search for files using lists\n",
    "ceda_dir='/badc/cmip6/data/CMIP6/{project}/{centre}/{model}/{exp}/{run}/{domain}/{var}/gn/latest/'\n",
    "# define the base of the filename for the output file(s) using lists, note this matches the file format in the data directory except for the date_4_file section and the missing .nc. \n",
    "out_base='{var}_{domain}_{model}_{exp}_{run}_gn_{time_range}' # all that's missing is a .nc but we can add that later."
   ]
  },
  {
   "cell_type": "markdown",
   "metadata": {},
   "source": [
    "let's find some files for the UKESM1 model"
   ]
  },
  {
   "cell_type": "code",
   "execution_count": 3,
   "metadata": {},
   "outputs": [
    {
     "name": "stdout",
     "output_type": "stream",
     "text": [
      "['tas_Amon_UKESM1-0-LL_G6sulfur_r1i1p1f2_gn_202001-204912.nc', 'tas_Amon_UKESM1-0-LL_G6sulfur_r1i1p1f2_gn_205001-210012.nc']\n"
     ]
    }
   ],
   "source": [
    "model='UKESM1-0-LL'\n",
    "centre='MOHC'\n",
    "\n",
    "var='tas'\n",
    "domain='Amon'\n",
    "\n",
    "exp='G6sulfur'\n",
    "project='GeoMIP'\n",
    "\n",
    "run='r1i1p1f2'\n",
    "\n",
    "# Let's fill in the blanks in our directory structure with those variables\n",
    "test_dir = ceda_dir.format(model=model, centre=centre, var=var, domain=domain, exp=exp, project=project, run=run)\n",
    "# os.listdir just performs a normal \"ls\" command on the linux system with the text specified within the parentheses.\n",
    "test_dir_files = os.listdir(test_dir)\n",
    "print(test_dir_files)"
   ]
  },
  {
   "cell_type": "markdown",
   "metadata": {},
   "source": [
    "great, there's two files in there!"
   ]
  },
  {
   "cell_type": "markdown",
   "metadata": {},
   "source": [
    "## Let's open the file in xarray and see what we've got"
   ]
  },
  {
   "cell_type": "code",
   "execution_count": 4,
   "metadata": {},
   "outputs": [],
   "source": [
    "# specify the file path to the second file in that directory (python counts from zero for array positions.)\n",
    "fpath = test_dir + test_dir_files[1]\n",
    "ds = xr.open_dataset(fpath)"
   ]
  },
  {
   "cell_type": "markdown",
   "metadata": {},
   "source": [
    "Let's see what's inside"
   ]
  },
  {
   "cell_type": "code",
   "execution_count": 5,
   "metadata": {},
   "outputs": [
    {
     "data": {
      "text/html": [
       "<div><svg style=\"position: absolute; width: 0; height: 0; overflow: hidden\">\n",
       "<defs>\n",
       "<symbol id=\"icon-database\" viewBox=\"0 0 32 32\">\n",
       "<path d=\"M16 0c-8.837 0-16 2.239-16 5v4c0 2.761 7.163 5 16 5s16-2.239 16-5v-4c0-2.761-7.163-5-16-5z\"></path>\n",
       "<path d=\"M16 17c-8.837 0-16-2.239-16-5v6c0 2.761 7.163 5 16 5s16-2.239 16-5v-6c0 2.761-7.163 5-16 5z\"></path>\n",
       "<path d=\"M16 26c-8.837 0-16-2.239-16-5v6c0 2.761 7.163 5 16 5s16-2.239 16-5v-6c0 2.761-7.163 5-16 5z\"></path>\n",
       "</symbol>\n",
       "<symbol id=\"icon-file-text2\" viewBox=\"0 0 32 32\">\n",
       "<path d=\"M28.681 7.159c-0.694-0.947-1.662-2.053-2.724-3.116s-2.169-2.030-3.116-2.724c-1.612-1.182-2.393-1.319-2.841-1.319h-15.5c-1.378 0-2.5 1.121-2.5 2.5v27c0 1.378 1.122 2.5 2.5 2.5h23c1.378 0 2.5-1.122 2.5-2.5v-19.5c0-0.448-0.137-1.23-1.319-2.841zM24.543 5.457c0.959 0.959 1.712 1.825 2.268 2.543h-4.811v-4.811c0.718 0.556 1.584 1.309 2.543 2.268zM28 29.5c0 0.271-0.229 0.5-0.5 0.5h-23c-0.271 0-0.5-0.229-0.5-0.5v-27c0-0.271 0.229-0.5 0.5-0.5 0 0 15.499-0 15.5 0v7c0 0.552 0.448 1 1 1h7v19.5z\"></path>\n",
       "<path d=\"M23 26h-14c-0.552 0-1-0.448-1-1s0.448-1 1-1h14c0.552 0 1 0.448 1 1s-0.448 1-1 1z\"></path>\n",
       "<path d=\"M23 22h-14c-0.552 0-1-0.448-1-1s0.448-1 1-1h14c0.552 0 1 0.448 1 1s-0.448 1-1 1z\"></path>\n",
       "<path d=\"M23 18h-14c-0.552 0-1-0.448-1-1s0.448-1 1-1h14c0.552 0 1 0.448 1 1s-0.448 1-1 1z\"></path>\n",
       "</symbol>\n",
       "</defs>\n",
       "</svg>\n",
       "<style>/* CSS stylesheet for displaying xarray objects in jupyterlab.\n",
       " *\n",
       " */\n",
       "\n",
       ":root {\n",
       "  --xr-font-color0: var(--jp-content-font-color0, rgba(0, 0, 0, 1));\n",
       "  --xr-font-color2: var(--jp-content-font-color2, rgba(0, 0, 0, 0.54));\n",
       "  --xr-font-color3: var(--jp-content-font-color3, rgba(0, 0, 0, 0.38));\n",
       "  --xr-border-color: var(--jp-border-color2, #e0e0e0);\n",
       "  --xr-disabled-color: var(--jp-layout-color3, #bdbdbd);\n",
       "  --xr-background-color: var(--jp-layout-color0, white);\n",
       "  --xr-background-color-row-even: var(--jp-layout-color1, white);\n",
       "  --xr-background-color-row-odd: var(--jp-layout-color2, #eeeeee);\n",
       "}\n",
       "\n",
       "html[theme=dark],\n",
       "body.vscode-dark {\n",
       "  --xr-font-color0: rgba(255, 255, 255, 1);\n",
       "  --xr-font-color2: rgba(255, 255, 255, 0.54);\n",
       "  --xr-font-color3: rgba(255, 255, 255, 0.38);\n",
       "  --xr-border-color: #1F1F1F;\n",
       "  --xr-disabled-color: #515151;\n",
       "  --xr-background-color: #111111;\n",
       "  --xr-background-color-row-even: #111111;\n",
       "  --xr-background-color-row-odd: #313131;\n",
       "}\n",
       "\n",
       ".xr-wrap {\n",
       "  display: block;\n",
       "  min-width: 300px;\n",
       "  max-width: 700px;\n",
       "}\n",
       "\n",
       ".xr-text-repr-fallback {\n",
       "  /* fallback to plain text repr when CSS is not injected (untrusted notebook) */\n",
       "  display: none;\n",
       "}\n",
       "\n",
       ".xr-header {\n",
       "  padding-top: 6px;\n",
       "  padding-bottom: 6px;\n",
       "  margin-bottom: 4px;\n",
       "  border-bottom: solid 1px var(--xr-border-color);\n",
       "}\n",
       "\n",
       ".xr-header > div,\n",
       ".xr-header > ul {\n",
       "  display: inline;\n",
       "  margin-top: 0;\n",
       "  margin-bottom: 0;\n",
       "}\n",
       "\n",
       ".xr-obj-type,\n",
       ".xr-array-name {\n",
       "  margin-left: 2px;\n",
       "  margin-right: 10px;\n",
       "}\n",
       "\n",
       ".xr-obj-type {\n",
       "  color: var(--xr-font-color2);\n",
       "}\n",
       "\n",
       ".xr-sections {\n",
       "  padding-left: 0 !important;\n",
       "  display: grid;\n",
       "  grid-template-columns: 150px auto auto 1fr 20px 20px;\n",
       "}\n",
       "\n",
       ".xr-section-item {\n",
       "  display: contents;\n",
       "}\n",
       "\n",
       ".xr-section-item input {\n",
       "  display: none;\n",
       "}\n",
       "\n",
       ".xr-section-item input + label {\n",
       "  color: var(--xr-disabled-color);\n",
       "}\n",
       "\n",
       ".xr-section-item input:enabled + label {\n",
       "  cursor: pointer;\n",
       "  color: var(--xr-font-color2);\n",
       "}\n",
       "\n",
       ".xr-section-item input:enabled + label:hover {\n",
       "  color: var(--xr-font-color0);\n",
       "}\n",
       "\n",
       ".xr-section-summary {\n",
       "  grid-column: 1;\n",
       "  color: var(--xr-font-color2);\n",
       "  font-weight: 500;\n",
       "}\n",
       "\n",
       ".xr-section-summary > span {\n",
       "  display: inline-block;\n",
       "  padding-left: 0.5em;\n",
       "}\n",
       "\n",
       ".xr-section-summary-in:disabled + label {\n",
       "  color: var(--xr-font-color2);\n",
       "}\n",
       "\n",
       ".xr-section-summary-in + label:before {\n",
       "  display: inline-block;\n",
       "  content: '►';\n",
       "  font-size: 11px;\n",
       "  width: 15px;\n",
       "  text-align: center;\n",
       "}\n",
       "\n",
       ".xr-section-summary-in:disabled + label:before {\n",
       "  color: var(--xr-disabled-color);\n",
       "}\n",
       "\n",
       ".xr-section-summary-in:checked + label:before {\n",
       "  content: '▼';\n",
       "}\n",
       "\n",
       ".xr-section-summary-in:checked + label > span {\n",
       "  display: none;\n",
       "}\n",
       "\n",
       ".xr-section-summary,\n",
       ".xr-section-inline-details {\n",
       "  padding-top: 4px;\n",
       "  padding-bottom: 4px;\n",
       "}\n",
       "\n",
       ".xr-section-inline-details {\n",
       "  grid-column: 2 / -1;\n",
       "}\n",
       "\n",
       ".xr-section-details {\n",
       "  display: none;\n",
       "  grid-column: 1 / -1;\n",
       "  margin-bottom: 5px;\n",
       "}\n",
       "\n",
       ".xr-section-summary-in:checked ~ .xr-section-details {\n",
       "  display: contents;\n",
       "}\n",
       "\n",
       ".xr-array-wrap {\n",
       "  grid-column: 1 / -1;\n",
       "  display: grid;\n",
       "  grid-template-columns: 20px auto;\n",
       "}\n",
       "\n",
       ".xr-array-wrap > label {\n",
       "  grid-column: 1;\n",
       "  vertical-align: top;\n",
       "}\n",
       "\n",
       ".xr-preview {\n",
       "  color: var(--xr-font-color3);\n",
       "}\n",
       "\n",
       ".xr-array-preview,\n",
       ".xr-array-data {\n",
       "  padding: 0 5px !important;\n",
       "  grid-column: 2;\n",
       "}\n",
       "\n",
       ".xr-array-data,\n",
       ".xr-array-in:checked ~ .xr-array-preview {\n",
       "  display: none;\n",
       "}\n",
       "\n",
       ".xr-array-in:checked ~ .xr-array-data,\n",
       ".xr-array-preview {\n",
       "  display: inline-block;\n",
       "}\n",
       "\n",
       ".xr-dim-list {\n",
       "  display: inline-block !important;\n",
       "  list-style: none;\n",
       "  padding: 0 !important;\n",
       "  margin: 0;\n",
       "}\n",
       "\n",
       ".xr-dim-list li {\n",
       "  display: inline-block;\n",
       "  padding: 0;\n",
       "  margin: 0;\n",
       "}\n",
       "\n",
       ".xr-dim-list:before {\n",
       "  content: '(';\n",
       "}\n",
       "\n",
       ".xr-dim-list:after {\n",
       "  content: ')';\n",
       "}\n",
       "\n",
       ".xr-dim-list li:not(:last-child):after {\n",
       "  content: ',';\n",
       "  padding-right: 5px;\n",
       "}\n",
       "\n",
       ".xr-has-index {\n",
       "  font-weight: bold;\n",
       "}\n",
       "\n",
       ".xr-var-list,\n",
       ".xr-var-item {\n",
       "  display: contents;\n",
       "}\n",
       "\n",
       ".xr-var-item > div,\n",
       ".xr-var-item label,\n",
       ".xr-var-item > .xr-var-name span {\n",
       "  background-color: var(--xr-background-color-row-even);\n",
       "  margin-bottom: 0;\n",
       "}\n",
       "\n",
       ".xr-var-item > .xr-var-name:hover span {\n",
       "  padding-right: 5px;\n",
       "}\n",
       "\n",
       ".xr-var-list > li:nth-child(odd) > div,\n",
       ".xr-var-list > li:nth-child(odd) > label,\n",
       ".xr-var-list > li:nth-child(odd) > .xr-var-name span {\n",
       "  background-color: var(--xr-background-color-row-odd);\n",
       "}\n",
       "\n",
       ".xr-var-name {\n",
       "  grid-column: 1;\n",
       "}\n",
       "\n",
       ".xr-var-dims {\n",
       "  grid-column: 2;\n",
       "}\n",
       "\n",
       ".xr-var-dtype {\n",
       "  grid-column: 3;\n",
       "  text-align: right;\n",
       "  color: var(--xr-font-color2);\n",
       "}\n",
       "\n",
       ".xr-var-preview {\n",
       "  grid-column: 4;\n",
       "}\n",
       "\n",
       ".xr-var-name,\n",
       ".xr-var-dims,\n",
       ".xr-var-dtype,\n",
       ".xr-preview,\n",
       ".xr-attrs dt {\n",
       "  white-space: nowrap;\n",
       "  overflow: hidden;\n",
       "  text-overflow: ellipsis;\n",
       "  padding-right: 10px;\n",
       "}\n",
       "\n",
       ".xr-var-name:hover,\n",
       ".xr-var-dims:hover,\n",
       ".xr-var-dtype:hover,\n",
       ".xr-attrs dt:hover {\n",
       "  overflow: visible;\n",
       "  width: auto;\n",
       "  z-index: 1;\n",
       "}\n",
       "\n",
       ".xr-var-attrs,\n",
       ".xr-var-data {\n",
       "  display: none;\n",
       "  background-color: var(--xr-background-color) !important;\n",
       "  padding-bottom: 5px !important;\n",
       "}\n",
       "\n",
       ".xr-var-attrs-in:checked ~ .xr-var-attrs,\n",
       ".xr-var-data-in:checked ~ .xr-var-data {\n",
       "  display: block;\n",
       "}\n",
       "\n",
       ".xr-var-data > table {\n",
       "  float: right;\n",
       "}\n",
       "\n",
       ".xr-var-name span,\n",
       ".xr-var-data,\n",
       ".xr-attrs {\n",
       "  padding-left: 25px !important;\n",
       "}\n",
       "\n",
       ".xr-attrs,\n",
       ".xr-var-attrs,\n",
       ".xr-var-data {\n",
       "  grid-column: 1 / -1;\n",
       "}\n",
       "\n",
       "dl.xr-attrs {\n",
       "  padding: 0;\n",
       "  margin: 0;\n",
       "  display: grid;\n",
       "  grid-template-columns: 125px auto;\n",
       "}\n",
       "\n",
       ".xr-attrs dt,\n",
       ".xr-attrs dd {\n",
       "  padding: 0;\n",
       "  margin: 0;\n",
       "  float: left;\n",
       "  padding-right: 10px;\n",
       "  width: auto;\n",
       "}\n",
       "\n",
       ".xr-attrs dt {\n",
       "  font-weight: normal;\n",
       "  grid-column: 1;\n",
       "}\n",
       "\n",
       ".xr-attrs dt:hover span {\n",
       "  display: inline-block;\n",
       "  background: var(--xr-background-color);\n",
       "  padding-right: 10px;\n",
       "}\n",
       "\n",
       ".xr-attrs dd {\n",
       "  grid-column: 2;\n",
       "  white-space: pre-wrap;\n",
       "  word-break: break-all;\n",
       "}\n",
       "\n",
       ".xr-icon-database,\n",
       ".xr-icon-file-text2 {\n",
       "  display: inline-block;\n",
       "  vertical-align: middle;\n",
       "  width: 1em;\n",
       "  height: 1.5em !important;\n",
       "  stroke-width: 0;\n",
       "  stroke: currentColor;\n",
       "  fill: currentColor;\n",
       "}\n",
       "</style><pre class='xr-text-repr-fallback'>&lt;xarray.Dataset&gt;\n",
       "Dimensions:    (bnds: 2, lat: 144, lon: 192, time: 612)\n",
       "Coordinates:\n",
       "  * time       (time) object 2050-01-16 00:00:00 ... 2100-12-16 00:00:00\n",
       "  * lat        (lat) float64 -89.38 -88.12 -86.88 -85.62 ... 86.88 88.12 89.38\n",
       "  * lon        (lon) float64 0.9375 2.812 4.688 6.562 ... 355.3 357.2 359.1\n",
       "    height     float64 1.5\n",
       "Dimensions without coordinates: bnds\n",
       "Data variables:\n",
       "    time_bnds  (time, bnds) object 2050-01-01 00:00:00 ... 2101-01-01 00:00:00\n",
       "    lat_bnds   (lat, bnds) float64 -90.0 -88.75 -88.75 ... 88.75 88.75 90.0\n",
       "    lon_bnds   (lon, bnds) float64 0.0 1.875 1.875 3.75 ... 358.1 358.1 360.0\n",
       "    tas        (time, lat, lon) float32 ...\n",
       "Attributes: (12/47)\n",
       "    Conventions:            CF-1.7 CMIP-6.2\n",
       "    activity_id:            GeoMIP\n",
       "    branch_method:          standard\n",
       "    branch_time_in_child:   61200.0\n",
       "    branch_time_in_parent:  61200.0\n",
       "    creation_date:          2019-11-12T11:51:49Z\n",
       "    ...                     ...\n",
       "    variable_id:            tas\n",
       "    variable_name:          tas\n",
       "    variant_label:          r1i1p1f2\n",
       "    license:                CMIP6 model data produced by the Met Office Hadle...\n",
       "    cmor_version:           3.4.0\n",
       "    tracking_id:            hdl:21.14100/a54eed95-b088-400a-9e6c-894bf3e4a288</pre><div class='xr-wrap' hidden><div class='xr-header'><div class='xr-obj-type'>xarray.Dataset</div></div><ul class='xr-sections'><li class='xr-section-item'><input id='section-92720b7f-14a1-4f45-ae7c-a45c0d9695fe' class='xr-section-summary-in' type='checkbox' disabled ><label for='section-92720b7f-14a1-4f45-ae7c-a45c0d9695fe' class='xr-section-summary'  title='Expand/collapse section'>Dimensions:</label><div class='xr-section-inline-details'><ul class='xr-dim-list'><li><span>bnds</span>: 2</li><li><span class='xr-has-index'>lat</span>: 144</li><li><span class='xr-has-index'>lon</span>: 192</li><li><span class='xr-has-index'>time</span>: 612</li></ul></div><div class='xr-section-details'></div></li><li class='xr-section-item'><input id='section-fe830119-488d-4482-83b1-ef07b105327f' class='xr-section-summary-in' type='checkbox'  checked><label for='section-fe830119-488d-4482-83b1-ef07b105327f' class='xr-section-summary' >Coordinates: <span>(4)</span></label><div class='xr-section-inline-details'></div><div class='xr-section-details'><ul class='xr-var-list'><li class='xr-var-item'><div class='xr-var-name'><span class='xr-has-index'>time</span></div><div class='xr-var-dims'>(time)</div><div class='xr-var-dtype'>object</div><div class='xr-var-preview xr-preview'>2050-01-16 00:00:00 ... 2100-12-...</div><input id='attrs-437a02eb-0115-43f3-883d-6969a58ae6ec' class='xr-var-attrs-in' type='checkbox' ><label for='attrs-437a02eb-0115-43f3-883d-6969a58ae6ec' title='Show/Hide attributes'><svg class='icon xr-icon-file-text2'><use xlink:href='#icon-file-text2'></use></svg></label><input id='data-ba5babe3-76aa-44f3-bc50-22c8f34eb648' class='xr-var-data-in' type='checkbox'><label for='data-ba5babe3-76aa-44f3-bc50-22c8f34eb648' title='Show/Hide data repr'><svg class='icon xr-icon-database'><use xlink:href='#icon-database'></use></svg></label><div class='xr-var-attrs'><dl class='xr-attrs'><dt><span>bounds :</span></dt><dd>time_bnds</dd><dt><span>axis :</span></dt><dd>T</dd><dt><span>long_name :</span></dt><dd>time</dd><dt><span>standard_name :</span></dt><dd>time</dd></dl></div><div class='xr-var-data'><pre>array([cftime.Datetime360Day(2050, 1, 16, 0, 0, 0, 0, has_year_zero=False),\n",
       "       cftime.Datetime360Day(2050, 2, 16, 0, 0, 0, 0, has_year_zero=False),\n",
       "       cftime.Datetime360Day(2050, 3, 16, 0, 0, 0, 0, has_year_zero=False),\n",
       "       ...,\n",
       "       cftime.Datetime360Day(2100, 10, 16, 0, 0, 0, 0, has_year_zero=False),\n",
       "       cftime.Datetime360Day(2100, 11, 16, 0, 0, 0, 0, has_year_zero=False),\n",
       "       cftime.Datetime360Day(2100, 12, 16, 0, 0, 0, 0, has_year_zero=False)],\n",
       "      dtype=object)</pre></div></li><li class='xr-var-item'><div class='xr-var-name'><span class='xr-has-index'>lat</span></div><div class='xr-var-dims'>(lat)</div><div class='xr-var-dtype'>float64</div><div class='xr-var-preview xr-preview'>-89.38 -88.12 ... 88.12 89.38</div><input id='attrs-e177ca4f-8ebe-4412-881b-8a9ab37799e9' class='xr-var-attrs-in' type='checkbox' ><label for='attrs-e177ca4f-8ebe-4412-881b-8a9ab37799e9' title='Show/Hide attributes'><svg class='icon xr-icon-file-text2'><use xlink:href='#icon-file-text2'></use></svg></label><input id='data-bfcdb713-012c-4aec-b66e-a22a73fef2aa' class='xr-var-data-in' type='checkbox'><label for='data-bfcdb713-012c-4aec-b66e-a22a73fef2aa' title='Show/Hide data repr'><svg class='icon xr-icon-database'><use xlink:href='#icon-database'></use></svg></label><div class='xr-var-attrs'><dl class='xr-attrs'><dt><span>bounds :</span></dt><dd>lat_bnds</dd><dt><span>units :</span></dt><dd>degrees_north</dd><dt><span>axis :</span></dt><dd>Y</dd><dt><span>long_name :</span></dt><dd>Latitude</dd><dt><span>standard_name :</span></dt><dd>latitude</dd></dl></div><div class='xr-var-data'><pre>array([-89.375, -88.125, -86.875, -85.625, -84.375, -83.125, -81.875, -80.625,\n",
       "       -79.375, -78.125, -76.875, -75.625, -74.375, -73.125, -71.875, -70.625,\n",
       "       -69.375, -68.125, -66.875, -65.625, -64.375, -63.125, -61.875, -60.625,\n",
       "       -59.375, -58.125, -56.875, -55.625, -54.375, -53.125, -51.875, -50.625,\n",
       "       -49.375, -48.125, -46.875, -45.625, -44.375, -43.125, -41.875, -40.625,\n",
       "       -39.375, -38.125, -36.875, -35.625, -34.375, -33.125, -31.875, -30.625,\n",
       "       -29.375, -28.125, -26.875, -25.625, -24.375, -23.125, -21.875, -20.625,\n",
       "       -19.375, -18.125, -16.875, -15.625, -14.375, -13.125, -11.875, -10.625,\n",
       "        -9.375,  -8.125,  -6.875,  -5.625,  -4.375,  -3.125,  -1.875,  -0.625,\n",
       "         0.625,   1.875,   3.125,   4.375,   5.625,   6.875,   8.125,   9.375,\n",
       "        10.625,  11.875,  13.125,  14.375,  15.625,  16.875,  18.125,  19.375,\n",
       "        20.625,  21.875,  23.125,  24.375,  25.625,  26.875,  28.125,  29.375,\n",
       "        30.625,  31.875,  33.125,  34.375,  35.625,  36.875,  38.125,  39.375,\n",
       "        40.625,  41.875,  43.125,  44.375,  45.625,  46.875,  48.125,  49.375,\n",
       "        50.625,  51.875,  53.125,  54.375,  55.625,  56.875,  58.125,  59.375,\n",
       "        60.625,  61.875,  63.125,  64.375,  65.625,  66.875,  68.125,  69.375,\n",
       "        70.625,  71.875,  73.125,  74.375,  75.625,  76.875,  78.125,  79.375,\n",
       "        80.625,  81.875,  83.125,  84.375,  85.625,  86.875,  88.125,  89.375])</pre></div></li><li class='xr-var-item'><div class='xr-var-name'><span class='xr-has-index'>lon</span></div><div class='xr-var-dims'>(lon)</div><div class='xr-var-dtype'>float64</div><div class='xr-var-preview xr-preview'>0.9375 2.812 4.688 ... 357.2 359.1</div><input id='attrs-81c7b24b-11f2-4117-a2aa-f9de3ee2f746' class='xr-var-attrs-in' type='checkbox' ><label for='attrs-81c7b24b-11f2-4117-a2aa-f9de3ee2f746' title='Show/Hide attributes'><svg class='icon xr-icon-file-text2'><use xlink:href='#icon-file-text2'></use></svg></label><input id='data-e682ac74-7315-40ac-a2a9-a4ff756d9445' class='xr-var-data-in' type='checkbox'><label for='data-e682ac74-7315-40ac-a2a9-a4ff756d9445' title='Show/Hide data repr'><svg class='icon xr-icon-database'><use xlink:href='#icon-database'></use></svg></label><div class='xr-var-attrs'><dl class='xr-attrs'><dt><span>bounds :</span></dt><dd>lon_bnds</dd><dt><span>units :</span></dt><dd>degrees_east</dd><dt><span>axis :</span></dt><dd>X</dd><dt><span>long_name :</span></dt><dd>Longitude</dd><dt><span>standard_name :</span></dt><dd>longitude</dd></dl></div><div class='xr-var-data'><pre>array([  0.9375,   2.8125,   4.6875,   6.5625,   8.4375,  10.3125,  12.1875,\n",
       "        14.0625,  15.9375,  17.8125,  19.6875,  21.5625,  23.4375,  25.3125,\n",
       "        27.1875,  29.0625,  30.9375,  32.8125,  34.6875,  36.5625,  38.4375,\n",
       "        40.3125,  42.1875,  44.0625,  45.9375,  47.8125,  49.6875,  51.5625,\n",
       "        53.4375,  55.3125,  57.1875,  59.0625,  60.9375,  62.8125,  64.6875,\n",
       "        66.5625,  68.4375,  70.3125,  72.1875,  74.0625,  75.9375,  77.8125,\n",
       "        79.6875,  81.5625,  83.4375,  85.3125,  87.1875,  89.0625,  90.9375,\n",
       "        92.8125,  94.6875,  96.5625,  98.4375, 100.3125, 102.1875, 104.0625,\n",
       "       105.9375, 107.8125, 109.6875, 111.5625, 113.4375, 115.3125, 117.1875,\n",
       "       119.0625, 120.9375, 122.8125, 124.6875, 126.5625, 128.4375, 130.3125,\n",
       "       132.1875, 134.0625, 135.9375, 137.8125, 139.6875, 141.5625, 143.4375,\n",
       "       145.3125, 147.1875, 149.0625, 150.9375, 152.8125, 154.6875, 156.5625,\n",
       "       158.4375, 160.3125, 162.1875, 164.0625, 165.9375, 167.8125, 169.6875,\n",
       "       171.5625, 173.4375, 175.3125, 177.1875, 179.0625, 180.9375, 182.8125,\n",
       "       184.6875, 186.5625, 188.4375, 190.3125, 192.1875, 194.0625, 195.9375,\n",
       "       197.8125, 199.6875, 201.5625, 203.4375, 205.3125, 207.1875, 209.0625,\n",
       "       210.9375, 212.8125, 214.6875, 216.5625, 218.4375, 220.3125, 222.1875,\n",
       "       224.0625, 225.9375, 227.8125, 229.6875, 231.5625, 233.4375, 235.3125,\n",
       "       237.1875, 239.0625, 240.9375, 242.8125, 244.6875, 246.5625, 248.4375,\n",
       "       250.3125, 252.1875, 254.0625, 255.9375, 257.8125, 259.6875, 261.5625,\n",
       "       263.4375, 265.3125, 267.1875, 269.0625, 270.9375, 272.8125, 274.6875,\n",
       "       276.5625, 278.4375, 280.3125, 282.1875, 284.0625, 285.9375, 287.8125,\n",
       "       289.6875, 291.5625, 293.4375, 295.3125, 297.1875, 299.0625, 300.9375,\n",
       "       302.8125, 304.6875, 306.5625, 308.4375, 310.3125, 312.1875, 314.0625,\n",
       "       315.9375, 317.8125, 319.6875, 321.5625, 323.4375, 325.3125, 327.1875,\n",
       "       329.0625, 330.9375, 332.8125, 334.6875, 336.5625, 338.4375, 340.3125,\n",
       "       342.1875, 344.0625, 345.9375, 347.8125, 349.6875, 351.5625, 353.4375,\n",
       "       355.3125, 357.1875, 359.0625])</pre></div></li><li class='xr-var-item'><div class='xr-var-name'><span>height</span></div><div class='xr-var-dims'>()</div><div class='xr-var-dtype'>float64</div><div class='xr-var-preview xr-preview'>...</div><input id='attrs-895214c9-b25e-4d8e-bd11-d1d70d284815' class='xr-var-attrs-in' type='checkbox' ><label for='attrs-895214c9-b25e-4d8e-bd11-d1d70d284815' title='Show/Hide attributes'><svg class='icon xr-icon-file-text2'><use xlink:href='#icon-file-text2'></use></svg></label><input id='data-6601011c-c896-4ecb-a0cf-a5f250edf4b4' class='xr-var-data-in' type='checkbox'><label for='data-6601011c-c896-4ecb-a0cf-a5f250edf4b4' title='Show/Hide data repr'><svg class='icon xr-icon-database'><use xlink:href='#icon-database'></use></svg></label><div class='xr-var-attrs'><dl class='xr-attrs'><dt><span>units :</span></dt><dd>m</dd><dt><span>axis :</span></dt><dd>Z</dd><dt><span>positive :</span></dt><dd>up</dd><dt><span>long_name :</span></dt><dd>height</dd><dt><span>standard_name :</span></dt><dd>height</dd></dl></div><div class='xr-var-data'><pre>array(1.5)</pre></div></li></ul></div></li><li class='xr-section-item'><input id='section-2fb2f18e-9170-438e-8770-e76c49efdcbb' class='xr-section-summary-in' type='checkbox'  checked><label for='section-2fb2f18e-9170-438e-8770-e76c49efdcbb' class='xr-section-summary' >Data variables: <span>(4)</span></label><div class='xr-section-inline-details'></div><div class='xr-section-details'><ul class='xr-var-list'><li class='xr-var-item'><div class='xr-var-name'><span>time_bnds</span></div><div class='xr-var-dims'>(time, bnds)</div><div class='xr-var-dtype'>object</div><div class='xr-var-preview xr-preview'>...</div><input id='attrs-138ac73e-f8f9-4dd0-86d6-c915c77ec348' class='xr-var-attrs-in' type='checkbox' disabled><label for='attrs-138ac73e-f8f9-4dd0-86d6-c915c77ec348' title='Show/Hide attributes'><svg class='icon xr-icon-file-text2'><use xlink:href='#icon-file-text2'></use></svg></label><input id='data-fd7fcc53-7de8-4760-932a-3ee196ca11da' class='xr-var-data-in' type='checkbox'><label for='data-fd7fcc53-7de8-4760-932a-3ee196ca11da' title='Show/Hide data repr'><svg class='icon xr-icon-database'><use xlink:href='#icon-database'></use></svg></label><div class='xr-var-attrs'><dl class='xr-attrs'></dl></div><div class='xr-var-data'><pre>array([[cftime.Datetime360Day(2050, 1, 1, 0, 0, 0, 0, has_year_zero=False),\n",
       "        cftime.Datetime360Day(2050, 2, 1, 0, 0, 0, 0, has_year_zero=False)],\n",
       "       [cftime.Datetime360Day(2050, 2, 1, 0, 0, 0, 0, has_year_zero=False),\n",
       "        cftime.Datetime360Day(2050, 3, 1, 0, 0, 0, 0, has_year_zero=False)],\n",
       "       [cftime.Datetime360Day(2050, 3, 1, 0, 0, 0, 0, has_year_zero=False),\n",
       "        cftime.Datetime360Day(2050, 4, 1, 0, 0, 0, 0, has_year_zero=False)],\n",
       "       ...,\n",
       "       [cftime.Datetime360Day(2100, 10, 1, 0, 0, 0, 0, has_year_zero=False),\n",
       "        cftime.Datetime360Day(2100, 11, 1, 0, 0, 0, 0, has_year_zero=False)],\n",
       "       [cftime.Datetime360Day(2100, 11, 1, 0, 0, 0, 0, has_year_zero=False),\n",
       "        cftime.Datetime360Day(2100, 12, 1, 0, 0, 0, 0, has_year_zero=False)],\n",
       "       [cftime.Datetime360Day(2100, 12, 1, 0, 0, 0, 0, has_year_zero=False),\n",
       "        cftime.Datetime360Day(2101, 1, 1, 0, 0, 0, 0, has_year_zero=False)]],\n",
       "      dtype=object)</pre></div></li><li class='xr-var-item'><div class='xr-var-name'><span>lat_bnds</span></div><div class='xr-var-dims'>(lat, bnds)</div><div class='xr-var-dtype'>float64</div><div class='xr-var-preview xr-preview'>...</div><input id='attrs-046596f7-cc8a-42d2-b92e-2179552d9625' class='xr-var-attrs-in' type='checkbox' disabled><label for='attrs-046596f7-cc8a-42d2-b92e-2179552d9625' title='Show/Hide attributes'><svg class='icon xr-icon-file-text2'><use xlink:href='#icon-file-text2'></use></svg></label><input id='data-4719daea-08d5-4f5f-a210-17b09e3707d9' class='xr-var-data-in' type='checkbox'><label for='data-4719daea-08d5-4f5f-a210-17b09e3707d9' title='Show/Hide data repr'><svg class='icon xr-icon-database'><use xlink:href='#icon-database'></use></svg></label><div class='xr-var-attrs'><dl class='xr-attrs'></dl></div><div class='xr-var-data'><pre>array([[-90.  , -88.75],\n",
       "       [-88.75, -87.5 ],\n",
       "       [-87.5 , -86.25],\n",
       "       ...,\n",
       "       [ 86.25,  87.5 ],\n",
       "       [ 87.5 ,  88.75],\n",
       "       [ 88.75,  90.  ]])</pre></div></li><li class='xr-var-item'><div class='xr-var-name'><span>lon_bnds</span></div><div class='xr-var-dims'>(lon, bnds)</div><div class='xr-var-dtype'>float64</div><div class='xr-var-preview xr-preview'>...</div><input id='attrs-f3938479-6d4f-4f86-8033-b8c623eb8e97' class='xr-var-attrs-in' type='checkbox' disabled><label for='attrs-f3938479-6d4f-4f86-8033-b8c623eb8e97' title='Show/Hide attributes'><svg class='icon xr-icon-file-text2'><use xlink:href='#icon-file-text2'></use></svg></label><input id='data-3b07d759-ea91-4387-8c47-54ad9154eb54' class='xr-var-data-in' type='checkbox'><label for='data-3b07d759-ea91-4387-8c47-54ad9154eb54' title='Show/Hide data repr'><svg class='icon xr-icon-database'><use xlink:href='#icon-database'></use></svg></label><div class='xr-var-attrs'><dl class='xr-attrs'></dl></div><div class='xr-var-data'><pre>array([[  0.   ,   1.875],\n",
       "       [  1.875,   3.75 ],\n",
       "       [  3.75 ,   5.625],\n",
       "       ...,\n",
       "       [354.375, 356.25 ],\n",
       "       [356.25 , 358.125],\n",
       "       [358.125, 360.   ]])</pre></div></li><li class='xr-var-item'><div class='xr-var-name'><span>tas</span></div><div class='xr-var-dims'>(time, lat, lon)</div><div class='xr-var-dtype'>float32</div><div class='xr-var-preview xr-preview'>...</div><input id='attrs-884d1850-3f31-4989-b96b-84183d0173f6' class='xr-var-attrs-in' type='checkbox' ><label for='attrs-884d1850-3f31-4989-b96b-84183d0173f6' title='Show/Hide attributes'><svg class='icon xr-icon-file-text2'><use xlink:href='#icon-file-text2'></use></svg></label><input id='data-b8199e42-3f44-456a-bb4a-3583f281a934' class='xr-var-data-in' type='checkbox'><label for='data-b8199e42-3f44-456a-bb4a-3583f281a934' title='Show/Hide data repr'><svg class='icon xr-icon-database'><use xlink:href='#icon-database'></use></svg></label><div class='xr-var-attrs'><dl class='xr-attrs'><dt><span>standard_name :</span></dt><dd>air_temperature</dd><dt><span>long_name :</span></dt><dd>Near-Surface Air Temperature</dd><dt><span>comment :</span></dt><dd>near-surface (usually, 2 meter) air temperature</dd><dt><span>units :</span></dt><dd>K</dd><dt><span>original_name :</span></dt><dd>mo: (stash: m01s03i236, lbproc: 128)</dd><dt><span>cell_methods :</span></dt><dd>area: time: mean</dd><dt><span>cell_measures :</span></dt><dd>area: areacella</dd><dt><span>history :</span></dt><dd>2019-11-12T11:51:49Z altered by CMOR: Treated scalar dimension: &#x27;height&#x27;. 2019-11-12T11:51:49Z altered by CMOR: replaced missing value flag (-1.07374e+09) with standard missing value (1e+20).</dd></dl></div><div class='xr-var-data'><pre>[16920576 values with dtype=float32]</pre></div></li></ul></div></li><li class='xr-section-item'><input id='section-4a622352-0caf-4a25-8b37-76944489bf58' class='xr-section-summary-in' type='checkbox'  ><label for='section-4a622352-0caf-4a25-8b37-76944489bf58' class='xr-section-summary' >Attributes: <span>(47)</span></label><div class='xr-section-inline-details'></div><div class='xr-section-details'><dl class='xr-attrs'><dt><span>Conventions :</span></dt><dd>CF-1.7 CMIP-6.2</dd><dt><span>activity_id :</span></dt><dd>GeoMIP</dd><dt><span>branch_method :</span></dt><dd>standard</dd><dt><span>branch_time_in_child :</span></dt><dd>61200.0</dd><dt><span>branch_time_in_parent :</span></dt><dd>61200.0</dd><dt><span>creation_date :</span></dt><dd>2019-11-12T11:51:49Z</dd><dt><span>cv_version :</span></dt><dd>6.2.37.5</dd><dt><span>data_specs_version :</span></dt><dd>01.00.29</dd><dt><span>experiment :</span></dt><dd>stratospheric sulfate aerosol injection to reduce net forcing from SSP585 to SSP245</dd><dt><span>experiment_id :</span></dt><dd>G6sulfur</dd><dt><span>external_variables :</span></dt><dd>areacella</dd><dt><span>forcing_index :</span></dt><dd>2</dd><dt><span>frequency :</span></dt><dd>mon</dd><dt><span>further_info_url :</span></dt><dd>https://furtherinfo.es-doc.org/CMIP6.MOHC.UKESM1-0-LL.G6sulfur.none.r1i1p1f2</dd><dt><span>grid :</span></dt><dd>Native N96 grid; 192 x 144 longitude/latitude</dd><dt><span>grid_label :</span></dt><dd>gn</dd><dt><span>history :</span></dt><dd>2019-11-12T11:33:32Z ; CMOR rewrote data to be consistent with CMIP6, CF-1.7 CMIP-6.2 and CF standards.;\n",
       "2019-11-12T11:32:18Z MIP Convert v1.2.1, Python v2.7.12, Iris v1.13.0, Numpy v1.13.3, netcdftime v1.4.1.</dd><dt><span>initialization_index :</span></dt><dd>1</dd><dt><span>institution :</span></dt><dd>Met Office Hadley Centre, Fitzroy Road, Exeter, Devon, EX1 3PB, UK</dd><dt><span>institution_id :</span></dt><dd>MOHC</dd><dt><span>mip_era :</span></dt><dd>CMIP6</dd><dt><span>mo_runid :</span></dt><dd>u-bi105</dd><dt><span>nominal_resolution :</span></dt><dd>250 km</dd><dt><span>parent_activity_id :</span></dt><dd>ScenarioMIP</dd><dt><span>parent_experiment_id :</span></dt><dd>ssp585</dd><dt><span>parent_mip_era :</span></dt><dd>CMIP6</dd><dt><span>parent_source_id :</span></dt><dd>UKESM1-0-LL</dd><dt><span>parent_time_units :</span></dt><dd>days since 1850-01-01</dd><dt><span>parent_variant_label :</span></dt><dd>r1i1p1f2</dd><dt><span>physics_index :</span></dt><dd>1</dd><dt><span>product :</span></dt><dd>model-output</dd><dt><span>realization_index :</span></dt><dd>1</dd><dt><span>realm :</span></dt><dd>atmos</dd><dt><span>source :</span></dt><dd>UKESM1.0-LL (2018): \n",
       "aerosol: UKCA-GLOMAP-mode\n",
       "atmos: MetUM-HadGEM3-GA7.1 (N96; 192 x 144 longitude/latitude; 85 levels; top level 85 km)\n",
       "atmosChem: UKCA-StratTrop\n",
       "land: JULES-ES-1.0\n",
       "landIce: none\n",
       "ocean: NEMO-HadGEM3-GO6.0 (eORCA1 tripolar primarily 1 deg with meridional refinement down to 1/3 degree in the tropics; 360 x 330 longitude/latitude; 75 levels; top grid cell 0-1 m)\n",
       "ocnBgchem: MEDUSA2\n",
       "seaIce: CICE-HadGEM3-GSI8 (eORCA1 tripolar primarily 1 deg; 360 x 330 longitude/latitude)</dd><dt><span>source_id :</span></dt><dd>UKESM1-0-LL</dd><dt><span>source_type :</span></dt><dd>AOGCM AER BGC CHEM</dd><dt><span>sub_experiment :</span></dt><dd>none</dd><dt><span>sub_experiment_id :</span></dt><dd>none</dd><dt><span>table_id :</span></dt><dd>Amon</dd><dt><span>table_info :</span></dt><dd>Creation Date:(13 December 2018) MD5:f0588f7f55b5732b17302f8d9d0d7b8c</dd><dt><span>title :</span></dt><dd>UKESM1-0-LL output prepared for CMIP6</dd><dt><span>variable_id :</span></dt><dd>tas</dd><dt><span>variable_name :</span></dt><dd>tas</dd><dt><span>variant_label :</span></dt><dd>r1i1p1f2</dd><dt><span>license :</span></dt><dd>CMIP6 model data produced by the Met Office Hadley Centre is licensed under a Creative Commons Attribution-ShareAlike 4.0 International License (https://creativecommons.org/licenses). Consult https://pcmdi.llnl.gov/CMIP6/TermsOfUse for terms of use governing CMIP6 output, including citation requirements and proper acknowledgment. Further information about this data, including some limitations, can be found via the further_info_url (recorded as a global attribute in this file) and at https://ukesm.ac.uk/cmip6. The data producers and data providers make no warranty, either express or implied, including, but not limited to, warranties of merchantability and fitness for a particular purpose. All liabilities arising from the supply of the information (including any liability arising in negligence) are excluded to the fullest extent permitted by law.</dd><dt><span>cmor_version :</span></dt><dd>3.4.0</dd><dt><span>tracking_id :</span></dt><dd>hdl:21.14100/a54eed95-b088-400a-9e6c-894bf3e4a288</dd></dl></div></li></ul></div></div>"
      ],
      "text/plain": [
       "<xarray.Dataset>\n",
       "Dimensions:    (bnds: 2, lat: 144, lon: 192, time: 612)\n",
       "Coordinates:\n",
       "  * time       (time) object 2050-01-16 00:00:00 ... 2100-12-16 00:00:00\n",
       "  * lat        (lat) float64 -89.38 -88.12 -86.88 -85.62 ... 86.88 88.12 89.38\n",
       "  * lon        (lon) float64 0.9375 2.812 4.688 6.562 ... 355.3 357.2 359.1\n",
       "    height     float64 ...\n",
       "Dimensions without coordinates: bnds\n",
       "Data variables:\n",
       "    time_bnds  (time, bnds) object ...\n",
       "    lat_bnds   (lat, bnds) float64 ...\n",
       "    lon_bnds   (lon, bnds) float64 ...\n",
       "    tas        (time, lat, lon) float32 ...\n",
       "Attributes: (12/47)\n",
       "    Conventions:            CF-1.7 CMIP-6.2\n",
       "    activity_id:            GeoMIP\n",
       "    branch_method:          standard\n",
       "    branch_time_in_child:   61200.0\n",
       "    branch_time_in_parent:  61200.0\n",
       "    creation_date:          2019-11-12T11:51:49Z\n",
       "    ...                     ...\n",
       "    variable_id:            tas\n",
       "    variable_name:          tas\n",
       "    variant_label:          r1i1p1f2\n",
       "    license:                CMIP6 model data produced by the Met Office Hadle...\n",
       "    cmor_version:           3.4.0\n",
       "    tracking_id:            hdl:21.14100/a54eed95-b088-400a-9e6c-894bf3e4a288"
      ]
     },
     "execution_count": 5,
     "metadata": {},
     "output_type": "execute_result"
    }
   ],
   "source": [
    "ds"
   ]
  },
  {
   "cell_type": "code",
   "execution_count": 6,
   "metadata": {},
   "outputs": [
    {
     "data": {
      "text/plain": [
       "<matplotlib.collections.QuadMesh at 0x7fdc0abf20a0>"
      ]
     },
     "execution_count": 6,
     "metadata": {},
     "output_type": "execute_result"
    },
    {
     "data": {
      "image/png": "[encoded data removed]",
      "text/plain": [
       "<Figure size 432x288 with 2 Axes>"
      ]
     },
     "metadata": {
      "needs_background": "light"
     },
     "output_type": "display_data"
    }
   ],
   "source": [
    "# let's plot the time mean of the data\n",
    "ds.tas.mean(\"time\").plot()"
   ]
  },
  {
   "cell_type": "markdown",
   "metadata": {},
   "source": [
    "# Let's concatenate the two files into one"
   ]
  },
  {
   "cell_type": "code",
   "execution_count": 7,
   "metadata": {},
   "outputs": [],
   "source": [
    "ds1 = xr.open_dataset(test_dir + test_dir_files[0])\n",
    "ds2 = xr.open_dataset(test_dir + test_dir_files[1])\n",
    "\n",
    "# add these datasets together concatenating along the time dimension.\n",
    "ds_combined = xr.concat([ds1, ds2], 'time')"
   ]
  },
  {
   "cell_type": "code",
   "execution_count": 8,
   "metadata": {},
   "outputs": [
    {
     "data": {
      "text/html": [
       "<div><svg style=\"position: absolute; width: 0; height: 0; overflow: hidden\">\n",
       "<defs>\n",
       "<symbol id=\"icon-database\" viewBox=\"0 0 32 32\">\n",
       "<path d=\"M16 0c-8.837 0-16 2.239-16 5v4c0 2.761 7.163 5 16 5s16-2.239 16-5v-4c0-2.761-7.163-5-16-5z\"></path>\n",
       "<path d=\"M16 17c-8.837 0-16-2.239-16-5v6c0 2.761 7.163 5 16 5s16-2.239 16-5v-6c0 2.761-7.163 5-16 5z\"></path>\n",
       "<path d=\"M16 26c-8.837 0-16-2.239-16-5v6c0 2.761 7.163 5 16 5s16-2.239 16-5v-6c0 2.761-7.163 5-16 5z\"></path>\n",
       "</symbol>\n",
       "<symbol id=\"icon-file-text2\" viewBox=\"0 0 32 32\">\n",
       "<path d=\"M28.681 7.159c-0.694-0.947-1.662-2.053-2.724-3.116s-2.169-2.030-3.116-2.724c-1.612-1.182-2.393-1.319-2.841-1.319h-15.5c-1.378 0-2.5 1.121-2.5 2.5v27c0 1.378 1.122 2.5 2.5 2.5h23c1.378 0 2.5-1.122 2.5-2.5v-19.5c0-0.448-0.137-1.23-1.319-2.841zM24.543 5.457c0.959 0.959 1.712 1.825 2.268 2.543h-4.811v-4.811c0.718 0.556 1.584 1.309 2.543 2.268zM28 29.5c0 0.271-0.229 0.5-0.5 0.5h-23c-0.271 0-0.5-0.229-0.5-0.5v-27c0-0.271 0.229-0.5 0.5-0.5 0 0 15.499-0 15.5 0v7c0 0.552 0.448 1 1 1h7v19.5z\"></path>\n",
       "<path d=\"M23 26h-14c-0.552 0-1-0.448-1-1s0.448-1 1-1h14c0.552 0 1 0.448 1 1s-0.448 1-1 1z\"></path>\n",
       "<path d=\"M23 22h-14c-0.552 0-1-0.448-1-1s0.448-1 1-1h14c0.552 0 1 0.448 1 1s-0.448 1-1 1z\"></path>\n",
       "<path d=\"M23 18h-14c-0.552 0-1-0.448-1-1s0.448-1 1-1h14c0.552 0 1 0.448 1 1s-0.448 1-1 1z\"></path>\n",
       "</symbol>\n",
       "</defs>\n",
       "</svg>\n",
       "<style>/* CSS stylesheet for displaying xarray objects in jupyterlab.\n",
       " *\n",
       " */\n",
       "\n",
       ":root {\n",
       "  --xr-font-color0: var(--jp-content-font-color0, rgba(0, 0, 0, 1));\n",
       "  --xr-font-color2: var(--jp-content-font-color2, rgba(0, 0, 0, 0.54));\n",
       "  --xr-font-color3: var(--jp-content-font-color3, rgba(0, 0, 0, 0.38));\n",
       "  --xr-border-color: var(--jp-border-color2, #e0e0e0);\n",
       "  --xr-disabled-color: var(--jp-layout-color3, #bdbdbd);\n",
       "  --xr-background-color: var(--jp-layout-color0, white);\n",
       "  --xr-background-color-row-even: var(--jp-layout-color1, white);\n",
       "  --xr-background-color-row-odd: var(--jp-layout-color2, #eeeeee);\n",
       "}\n",
       "\n",
       "html[theme=dark],\n",
       "body.vscode-dark {\n",
       "  --xr-font-color0: rgba(255, 255, 255, 1);\n",
       "  --xr-font-color2: rgba(255, 255, 255, 0.54);\n",
       "  --xr-font-color3: rgba(255, 255, 255, 0.38);\n",
       "  --xr-border-color: #1F1F1F;\n",
       "  --xr-disabled-color: #515151;\n",
       "  --xr-background-color: #111111;\n",
       "  --xr-background-color-row-even: #111111;\n",
       "  --xr-background-color-row-odd: #313131;\n",
       "}\n",
       "\n",
       ".xr-wrap {\n",
       "  display: block;\n",
       "  min-width: 300px;\n",
       "  max-width: 700px;\n",
       "}\n",
       "\n",
       ".xr-text-repr-fallback {\n",
       "  /* fallback to plain text repr when CSS is not injected (untrusted notebook) */\n",
       "  display: none;\n",
       "}\n",
       "\n",
       ".xr-header {\n",
       "  padding-top: 6px;\n",
       "  padding-bottom: 6px;\n",
       "  margin-bottom: 4px;\n",
       "  border-bottom: solid 1px var(--xr-border-color);\n",
       "}\n",
       "\n",
       ".xr-header > div,\n",
       ".xr-header > ul {\n",
       "  display: inline;\n",
       "  margin-top: 0;\n",
       "  margin-bottom: 0;\n",
       "}\n",
       "\n",
       ".xr-obj-type,\n",
       ".xr-array-name {\n",
       "  margin-left: 2px;\n",
       "  margin-right: 10px;\n",
       "}\n",
       "\n",
       ".xr-obj-type {\n",
       "  color: var(--xr-font-color2);\n",
       "}\n",
       "\n",
       ".xr-sections {\n",
       "  padding-left: 0 !important;\n",
       "  display: grid;\n",
       "  grid-template-columns: 150px auto auto 1fr 20px 20px;\n",
       "}\n",
       "\n",
       ".xr-section-item {\n",
       "  display: contents;\n",
       "}\n",
       "\n",
       ".xr-section-item input {\n",
       "  display: none;\n",
       "}\n",
       "\n",
       ".xr-section-item input + label {\n",
       "  color: var(--xr-disabled-color);\n",
       "}\n",
       "\n",
       ".xr-section-item input:enabled + label {\n",
       "  cursor: pointer;\n",
       "  color: var(--xr-font-color2);\n",
       "}\n",
       "\n",
       ".xr-section-item input:enabled + label:hover {\n",
       "  color: var(--xr-font-color0);\n",
       "}\n",
       "\n",
       ".xr-section-summary {\n",
       "  grid-column: 1;\n",
       "  color: var(--xr-font-color2);\n",
       "  font-weight: 500;\n",
       "}\n",
       "\n",
       ".xr-section-summary > span {\n",
       "  display: inline-block;\n",
       "  padding-left: 0.5em;\n",
       "}\n",
       "\n",
       ".xr-section-summary-in:disabled + label {\n",
       "  color: var(--xr-font-color2);\n",
       "}\n",
       "\n",
       ".xr-section-summary-in + label:before {\n",
       "  display: inline-block;\n",
       "  content: '►';\n",
       "  font-size: 11px;\n",
       "  width: 15px;\n",
       "  text-align: center;\n",
       "}\n",
       "\n",
       ".xr-section-summary-in:disabled + label:before {\n",
       "  color: var(--xr-disabled-color);\n",
       "}\n",
       "\n",
       ".xr-section-summary-in:checked + label:before {\n",
       "  content: '▼';\n",
       "}\n",
       "\n",
       ".xr-section-summary-in:checked + label > span {\n",
       "  display: none;\n",
       "}\n",
       "\n",
       ".xr-section-summary,\n",
       ".xr-section-inline-details {\n",
       "  padding-top: 4px;\n",
       "  padding-bottom: 4px;\n",
       "}\n",
       "\n",
       ".xr-section-inline-details {\n",
       "  grid-column: 2 / -1;\n",
       "}\n",
       "\n",
       ".xr-section-details {\n",
       "  display: none;\n",
       "  grid-column: 1 / -1;\n",
       "  margin-bottom: 5px;\n",
       "}\n",
       "\n",
       ".xr-section-summary-in:checked ~ .xr-section-details {\n",
       "  display: contents;\n",
       "}\n",
       "\n",
       ".xr-array-wrap {\n",
       "  grid-column: 1 / -1;\n",
       "  display: grid;\n",
       "  grid-template-columns: 20px auto;\n",
       "}\n",
       "\n",
       ".xr-array-wrap > label {\n",
       "  grid-column: 1;\n",
       "  vertical-align: top;\n",
       "}\n",
       "\n",
       ".xr-preview {\n",
       "  color: var(--xr-font-color3);\n",
       "}\n",
       "\n",
       ".xr-array-preview,\n",
       ".xr-array-data {\n",
       "  padding: 0 5px !important;\n",
       "  grid-column: 2;\n",
       "}\n",
       "\n",
       ".xr-array-data,\n",
       ".xr-array-in:checked ~ .xr-array-preview {\n",
       "  display: none;\n",
       "}\n",
       "\n",
       ".xr-array-in:checked ~ .xr-array-data,\n",
       ".xr-array-preview {\n",
       "  display: inline-block;\n",
       "}\n",
       "\n",
       ".xr-dim-list {\n",
       "  display: inline-block !important;\n",
       "  list-style: none;\n",
       "  padding: 0 !important;\n",
       "  margin: 0;\n",
       "}\n",
       "\n",
       ".xr-dim-list li {\n",
       "  display: inline-block;\n",
       "  padding: 0;\n",
       "  margin: 0;\n",
       "}\n",
       "\n",
       ".xr-dim-list:before {\n",
       "  content: '(';\n",
       "}\n",
       "\n",
       ".xr-dim-list:after {\n",
       "  content: ')';\n",
       "}\n",
       "\n",
       ".xr-dim-list li:not(:last-child):after {\n",
       "  content: ',';\n",
       "  padding-right: 5px;\n",
       "}\n",
       "\n",
       ".xr-has-index {\n",
       "  font-weight: bold;\n",
       "}\n",
       "\n",
       ".xr-var-list,\n",
       ".xr-var-item {\n",
       "  display: contents;\n",
       "}\n",
       "\n",
       ".xr-var-item > div,\n",
       ".xr-var-item label,\n",
       ".xr-var-item > .xr-var-name span {\n",
       "  background-color: var(--xr-background-color-row-even);\n",
       "  margin-bottom: 0;\n",
       "}\n",
       "\n",
       ".xr-var-item > .xr-var-name:hover span {\n",
       "  padding-right: 5px;\n",
       "}\n",
       "\n",
       ".xr-var-list > li:nth-child(odd) > div,\n",
       ".xr-var-list > li:nth-child(odd) > label,\n",
       ".xr-var-list > li:nth-child(odd) > .xr-var-name span {\n",
       "  background-color: var(--xr-background-color-row-odd);\n",
       "}\n",
       "\n",
       ".xr-var-name {\n",
       "  grid-column: 1;\n",
       "}\n",
       "\n",
       ".xr-var-dims {\n",
       "  grid-column: 2;\n",
       "}\n",
       "\n",
       ".xr-var-dtype {\n",
       "  grid-column: 3;\n",
       "  text-align: right;\n",
       "  color: var(--xr-font-color2);\n",
       "}\n",
       "\n",
       ".xr-var-preview {\n",
       "  grid-column: 4;\n",
       "}\n",
       "\n",
       ".xr-var-name,\n",
       ".xr-var-dims,\n",
       ".xr-var-dtype,\n",
       ".xr-preview,\n",
       ".xr-attrs dt {\n",
       "  white-space: nowrap;\n",
       "  overflow: hidden;\n",
       "  text-overflow: ellipsis;\n",
       "  padding-right: 10px;\n",
       "}\n",
       "\n",
       ".xr-var-name:hover,\n",
       ".xr-var-dims:hover,\n",
       ".xr-var-dtype:hover,\n",
       ".xr-attrs dt:hover {\n",
       "  overflow: visible;\n",
       "  width: auto;\n",
       "  z-index: 1;\n",
       "}\n",
       "\n",
       ".xr-var-attrs,\n",
       ".xr-var-data {\n",
       "  display: none;\n",
       "  background-color: var(--xr-background-color) !important;\n",
       "  padding-bottom: 5px !important;\n",
       "}\n",
       "\n",
       ".xr-var-attrs-in:checked ~ .xr-var-attrs,\n",
       ".xr-var-data-in:checked ~ .xr-var-data {\n",
       "  display: block;\n",
       "}\n",
       "\n",
       ".xr-var-data > table {\n",
       "  float: right;\n",
       "}\n",
       "\n",
       ".xr-var-name span,\n",
       ".xr-var-data,\n",
       ".xr-attrs {\n",
       "  padding-left: 25px !important;\n",
       "}\n",
       "\n",
       ".xr-attrs,\n",
       ".xr-var-attrs,\n",
       ".xr-var-data {\n",
       "  grid-column: 1 / -1;\n",
       "}\n",
       "\n",
       "dl.xr-attrs {\n",
       "  padding: 0;\n",
       "  margin: 0;\n",
       "  display: grid;\n",
       "  grid-template-columns: 125px auto;\n",
       "}\n",
       "\n",
       ".xr-attrs dt,\n",
       ".xr-attrs dd {\n",
       "  padding: 0;\n",
       "  margin: 0;\n",
       "  float: left;\n",
       "  padding-right: 10px;\n",
       "  width: auto;\n",
       "}\n",
       "\n",
       ".xr-attrs dt {\n",
       "  font-weight: normal;\n",
       "  grid-column: 1;\n",
       "}\n",
       "\n",
       ".xr-attrs dt:hover span {\n",
       "  display: inline-block;\n",
       "  background: var(--xr-background-color);\n",
       "  padding-right: 10px;\n",
       "}\n",
       "\n",
       ".xr-attrs dd {\n",
       "  grid-column: 2;\n",
       "  white-space: pre-wrap;\n",
       "  word-break: break-all;\n",
       "}\n",
       "\n",
       ".xr-icon-database,\n",
       ".xr-icon-file-text2 {\n",
       "  display: inline-block;\n",
       "  vertical-align: middle;\n",
       "  width: 1em;\n",
       "  height: 1.5em !important;\n",
       "  stroke-width: 0;\n",
       "  stroke: currentColor;\n",
       "  fill: currentColor;\n",
       "}\n",
       "</style><pre class='xr-text-repr-fallback'>&lt;xarray.DataArray &#x27;time&#x27; (time: 972)&gt;\n",
       "array([cftime.Datetime360Day(2020, 1, 16, 0, 0, 0, 0, has_year_zero=False),\n",
       "       cftime.Datetime360Day(2020, 2, 16, 0, 0, 0, 0, has_year_zero=False),\n",
       "       cftime.Datetime360Day(2020, 3, 16, 0, 0, 0, 0, has_year_zero=False),\n",
       "       ...,\n",
       "       cftime.Datetime360Day(2100, 10, 16, 0, 0, 0, 0, has_year_zero=False),\n",
       "       cftime.Datetime360Day(2100, 11, 16, 0, 0, 0, 0, has_year_zero=False),\n",
       "       cftime.Datetime360Day(2100, 12, 16, 0, 0, 0, 0, has_year_zero=False)],\n",
       "      dtype=object)\n",
       "Coordinates:\n",
       "  * time     (time) object 2020-01-16 00:00:00 ... 2100-12-16 00:00:00\n",
       "    height   float64 1.5\n",
       "Attributes:\n",
       "    bounds:         time_bnds\n",
       "    axis:           T\n",
       "    long_name:      time\n",
       "    standard_name:  time</pre><div class='xr-wrap' hidden><div class='xr-header'><div class='xr-obj-type'>xarray.DataArray</div><div class='xr-array-name'>'time'</div><ul class='xr-dim-list'><li><span class='xr-has-index'>time</span>: 972</li></ul></div><ul class='xr-sections'><li class='xr-section-item'><div class='xr-array-wrap'><input id='section-d3ec0b54-c3da-44e2-a465-220cedab5bb6' class='xr-array-in' type='checkbox' checked><label for='section-d3ec0b54-c3da-44e2-a465-220cedab5bb6' title='Show/hide data repr'><svg class='icon xr-icon-database'><use xlink:href='#icon-database'></use></svg></label><div class='xr-array-preview xr-preview'><span>2020-01-16 00:00:00 2020-02-16 00:00:00 ... 2100-12-16 00:00:00</span></div><div class='xr-array-data'><pre>array([cftime.Datetime360Day(2020, 1, 16, 0, 0, 0, 0, has_year_zero=False),\n",
       "       cftime.Datetime360Day(2020, 2, 16, 0, 0, 0, 0, has_year_zero=False),\n",
       "       cftime.Datetime360Day(2020, 3, 16, 0, 0, 0, 0, has_year_zero=False),\n",
       "       ...,\n",
       "       cftime.Datetime360Day(2100, 10, 16, 0, 0, 0, 0, has_year_zero=False),\n",
       "       cftime.Datetime360Day(2100, 11, 16, 0, 0, 0, 0, has_year_zero=False),\n",
       "       cftime.Datetime360Day(2100, 12, 16, 0, 0, 0, 0, has_year_zero=False)],\n",
       "      dtype=object)</pre></div></div></li><li class='xr-section-item'><input id='section-bcffea92-aa1c-45ae-801e-ef2f83bf67b6' class='xr-section-summary-in' type='checkbox'  checked><label for='section-bcffea92-aa1c-45ae-801e-ef2f83bf67b6' class='xr-section-summary' >Coordinates: <span>(2)</span></label><div class='xr-section-inline-details'></div><div class='xr-section-details'><ul class='xr-var-list'><li class='xr-var-item'><div class='xr-var-name'><span class='xr-has-index'>time</span></div><div class='xr-var-dims'>(time)</div><div class='xr-var-dtype'>object</div><div class='xr-var-preview xr-preview'>2020-01-16 00:00:00 ... 2100-12-...</div><input id='attrs-c75282af-2c55-4760-abe3-58332679904d' class='xr-var-attrs-in' type='checkbox' ><label for='attrs-c75282af-2c55-4760-abe3-58332679904d' title='Show/Hide attributes'><svg class='icon xr-icon-file-text2'><use xlink:href='#icon-file-text2'></use></svg></label><input id='data-e7415b30-d416-4d85-8656-af87bcce94dc' class='xr-var-data-in' type='checkbox'><label for='data-e7415b30-d416-4d85-8656-af87bcce94dc' title='Show/Hide data repr'><svg class='icon xr-icon-database'><use xlink:href='#icon-database'></use></svg></label><div class='xr-var-attrs'><dl class='xr-attrs'><dt><span>bounds :</span></dt><dd>time_bnds</dd><dt><span>axis :</span></dt><dd>T</dd><dt><span>long_name :</span></dt><dd>time</dd><dt><span>standard_name :</span></dt><dd>time</dd></dl></div><div class='xr-var-data'><pre>array([cftime.Datetime360Day(2020, 1, 16, 0, 0, 0, 0, has_year_zero=False),\n",
       "       cftime.Datetime360Day(2020, 2, 16, 0, 0, 0, 0, has_year_zero=False),\n",
       "       cftime.Datetime360Day(2020, 3, 16, 0, 0, 0, 0, has_year_zero=False),\n",
       "       ...,\n",
       "       cftime.Datetime360Day(2100, 10, 16, 0, 0, 0, 0, has_year_zero=False),\n",
       "       cftime.Datetime360Day(2100, 11, 16, 0, 0, 0, 0, has_year_zero=False),\n",
       "       cftime.Datetime360Day(2100, 12, 16, 0, 0, 0, 0, has_year_zero=False)],\n",
       "      dtype=object)</pre></div></li><li class='xr-var-item'><div class='xr-var-name'><span>height</span></div><div class='xr-var-dims'>()</div><div class='xr-var-dtype'>float64</div><div class='xr-var-preview xr-preview'>1.5</div><input id='attrs-fadbe32a-4b27-4057-b313-411d8f94d7b7' class='xr-var-attrs-in' type='checkbox' ><label for='attrs-fadbe32a-4b27-4057-b313-411d8f94d7b7' title='Show/Hide attributes'><svg class='icon xr-icon-file-text2'><use xlink:href='#icon-file-text2'></use></svg></label><input id='data-642d9f6c-283e-4a28-96d8-152230cef78b' class='xr-var-data-in' type='checkbox'><label for='data-642d9f6c-283e-4a28-96d8-152230cef78b' title='Show/Hide data repr'><svg class='icon xr-icon-database'><use xlink:href='#icon-database'></use></svg></label><div class='xr-var-attrs'><dl class='xr-attrs'><dt><span>units :</span></dt><dd>m</dd><dt><span>axis :</span></dt><dd>Z</dd><dt><span>positive :</span></dt><dd>up</dd><dt><span>long_name :</span></dt><dd>height</dd><dt><span>standard_name :</span></dt><dd>height</dd></dl></div><div class='xr-var-data'><pre>array(1.5)</pre></div></li></ul></div></li><li class='xr-section-item'><input id='section-386779a9-78fe-40b9-8ce2-1d7de069dd59' class='xr-section-summary-in' type='checkbox'  checked><label for='section-386779a9-78fe-40b9-8ce2-1d7de069dd59' class='xr-section-summary' >Attributes: <span>(4)</span></label><div class='xr-section-inline-details'></div><div class='xr-section-details'><dl class='xr-attrs'><dt><span>bounds :</span></dt><dd>time_bnds</dd><dt><span>axis :</span></dt><dd>T</dd><dt><span>long_name :</span></dt><dd>time</dd><dt><span>standard_name :</span></dt><dd>time</dd></dl></div></li></ul></div></div>"
      ],
      "text/plain": [
       "<xarray.DataArray 'time' (time: 972)>\n",
       "array([cftime.Datetime360Day(2020, 1, 16, 0, 0, 0, 0, has_year_zero=False),\n",
       "       cftime.Datetime360Day(2020, 2, 16, 0, 0, 0, 0, has_year_zero=False),\n",
       "       cftime.Datetime360Day(2020, 3, 16, 0, 0, 0, 0, has_year_zero=False),\n",
       "       ...,\n",
       "       cftime.Datetime360Day(2100, 10, 16, 0, 0, 0, 0, has_year_zero=False),\n",
       "       cftime.Datetime360Day(2100, 11, 16, 0, 0, 0, 0, has_year_zero=False),\n",
       "       cftime.Datetime360Day(2100, 12, 16, 0, 0, 0, 0, has_year_zero=False)],\n",
       "      dtype=object)\n",
       "Coordinates:\n",
       "  * time     (time) object 2020-01-16 00:00:00 ... 2100-12-16 00:00:00\n",
       "    height   float64 1.5\n",
       "Attributes:\n",
       "    bounds:         time_bnds\n",
       "    axis:           T\n",
       "    long_name:      time\n",
       "    standard_name:  time"
      ]
     },
     "execution_count": 8,
     "metadata": {},
     "output_type": "execute_result"
    }
   ],
   "source": [
    "ds_combined.time # FYI leaving a variable on it's own at the end of a cell prints it, i.e. its the same as: print(ds_combined.time) "
   ]
  },
  {
   "cell_type": "markdown",
   "metadata": {},
   "source": [
    "Great, it starts in 2020 and ends in 2100 so we've successfully joined those f"
   ]
  },
  {
   "cell_type": "markdown",
   "metadata": {},
   "source": [
    "## Let's select a time-period"
   ]
  },
  {
   "cell_type": "code",
   "execution_count": 9,
   "metadata": {},
   "outputs": [
    {
     "data": {
      "text/html": [
       "<div><svg style=\"position: absolute; width: 0; height: 0; overflow: hidden\">\n",
       "<defs>\n",
       "<symbol id=\"icon-database\" viewBox=\"0 0 32 32\">\n",
       "<path d=\"M16 0c-8.837 0-16 2.239-16 5v4c0 2.761 7.163 5 16 5s16-2.239 16-5v-4c0-2.761-7.163-5-16-5z\"></path>\n",
       "<path d=\"M16 17c-8.837 0-16-2.239-16-5v6c0 2.761 7.163 5 16 5s16-2.239 16-5v-6c0 2.761-7.163 5-16 5z\"></path>\n",
       "<path d=\"M16 26c-8.837 0-16-2.239-16-5v6c0 2.761 7.163 5 16 5s16-2.239 16-5v-6c0 2.761-7.163 5-16 5z\"></path>\n",
       "</symbol>\n",
       "<symbol id=\"icon-file-text2\" viewBox=\"0 0 32 32\">\n",
       "<path d=\"M28.681 7.159c-0.694-0.947-1.662-2.053-2.724-3.116s-2.169-2.030-3.116-2.724c-1.612-1.182-2.393-1.319-2.841-1.319h-15.5c-1.378 0-2.5 1.121-2.5 2.5v27c0 1.378 1.122 2.5 2.5 2.5h23c1.378 0 2.5-1.122 2.5-2.5v-19.5c0-0.448-0.137-1.23-1.319-2.841zM24.543 5.457c0.959 0.959 1.712 1.825 2.268 2.543h-4.811v-4.811c0.718 0.556 1.584 1.309 2.543 2.268zM28 29.5c0 0.271-0.229 0.5-0.5 0.5h-23c-0.271 0-0.5-0.229-0.5-0.5v-27c0-0.271 0.229-0.5 0.5-0.5 0 0 15.499-0 15.5 0v7c0 0.552 0.448 1 1 1h7v19.5z\"></path>\n",
       "<path d=\"M23 26h-14c-0.552 0-1-0.448-1-1s0.448-1 1-1h14c0.552 0 1 0.448 1 1s-0.448 1-1 1z\"></path>\n",
       "<path d=\"M23 22h-14c-0.552 0-1-0.448-1-1s0.448-1 1-1h14c0.552 0 1 0.448 1 1s-0.448 1-1 1z\"></path>\n",
       "<path d=\"M23 18h-14c-0.552 0-1-0.448-1-1s0.448-1 1-1h14c0.552 0 1 0.448 1 1s-0.448 1-1 1z\"></path>\n",
       "</symbol>\n",
       "</defs>\n",
       "</svg>\n",
       "<style>/* CSS stylesheet for displaying xarray objects in jupyterlab.\n",
       " *\n",
       " */\n",
       "\n",
       ":root {\n",
       "  --xr-font-color0: var(--jp-content-font-color0, rgba(0, 0, 0, 1));\n",
       "  --xr-font-color2: var(--jp-content-font-color2, rgba(0, 0, 0, 0.54));\n",
       "  --xr-font-color3: var(--jp-content-font-color3, rgba(0, 0, 0, 0.38));\n",
       "  --xr-border-color: var(--jp-border-color2, #e0e0e0);\n",
       "  --xr-disabled-color: var(--jp-layout-color3, #bdbdbd);\n",
       "  --xr-background-color: var(--jp-layout-color0, white);\n",
       "  --xr-background-color-row-even: var(--jp-layout-color1, white);\n",
       "  --xr-background-color-row-odd: var(--jp-layout-color2, #eeeeee);\n",
       "}\n",
       "\n",
       "html[theme=dark],\n",
       "body.vscode-dark {\n",
       "  --xr-font-color0: rgba(255, 255, 255, 1);\n",
       "  --xr-font-color2: rgba(255, 255, 255, 0.54);\n",
       "  --xr-font-color3: rgba(255, 255, 255, 0.38);\n",
       "  --xr-border-color: #1F1F1F;\n",
       "  --xr-disabled-color: #515151;\n",
       "  --xr-background-color: #111111;\n",
       "  --xr-background-color-row-even: #111111;\n",
       "  --xr-background-color-row-odd: #313131;\n",
       "}\n",
       "\n",
       ".xr-wrap {\n",
       "  display: block;\n",
       "  min-width: 300px;\n",
       "  max-width: 700px;\n",
       "}\n",
       "\n",
       ".xr-text-repr-fallback {\n",
       "  /* fallback to plain text repr when CSS is not injected (untrusted notebook) */\n",
       "  display: none;\n",
       "}\n",
       "\n",
       ".xr-header {\n",
       "  padding-top: 6px;\n",
       "  padding-bottom: 6px;\n",
       "  margin-bottom: 4px;\n",
       "  border-bottom: solid 1px var(--xr-border-color);\n",
       "}\n",
       "\n",
       ".xr-header > div,\n",
       ".xr-header > ul {\n",
       "  display: inline;\n",
       "  margin-top: 0;\n",
       "  margin-bottom: 0;\n",
       "}\n",
       "\n",
       ".xr-obj-type,\n",
       ".xr-array-name {\n",
       "  margin-left: 2px;\n",
       "  margin-right: 10px;\n",
       "}\n",
       "\n",
       ".xr-obj-type {\n",
       "  color: var(--xr-font-color2);\n",
       "}\n",
       "\n",
       ".xr-sections {\n",
       "  padding-left: 0 !important;\n",
       "  display: grid;\n",
       "  grid-template-columns: 150px auto auto 1fr 20px 20px;\n",
       "}\n",
       "\n",
       ".xr-section-item {\n",
       "  display: contents;\n",
       "}\n",
       "\n",
       ".xr-section-item input {\n",
       "  display: none;\n",
       "}\n",
       "\n",
       ".xr-section-item input + label {\n",
       "  color: var(--xr-disabled-color);\n",
       "}\n",
       "\n",
       ".xr-section-item input:enabled + label {\n",
       "  cursor: pointer;\n",
       "  color: var(--xr-font-color2);\n",
       "}\n",
       "\n",
       ".xr-section-item input:enabled + label:hover {\n",
       "  color: var(--xr-font-color0);\n",
       "}\n",
       "\n",
       ".xr-section-summary {\n",
       "  grid-column: 1;\n",
       "  color: var(--xr-font-color2);\n",
       "  font-weight: 500;\n",
       "}\n",
       "\n",
       ".xr-section-summary > span {\n",
       "  display: inline-block;\n",
       "  padding-left: 0.5em;\n",
       "}\n",
       "\n",
       ".xr-section-summary-in:disabled + label {\n",
       "  color: var(--xr-font-color2);\n",
       "}\n",
       "\n",
       ".xr-section-summary-in + label:before {\n",
       "  display: inline-block;\n",
       "  content: '►';\n",
       "  font-size: 11px;\n",
       "  width: 15px;\n",
       "  text-align: center;\n",
       "}\n",
       "\n",
       ".xr-section-summary-in:disabled + label:before {\n",
       "  color: var(--xr-disabled-color);\n",
       "}\n",
       "\n",
       ".xr-section-summary-in:checked + label:before {\n",
       "  content: '▼';\n",
       "}\n",
       "\n",
       ".xr-section-summary-in:checked + label > span {\n",
       "  display: none;\n",
       "}\n",
       "\n",
       ".xr-section-summary,\n",
       ".xr-section-inline-details {\n",
       "  padding-top: 4px;\n",
       "  padding-bottom: 4px;\n",
       "}\n",
       "\n",
       ".xr-section-inline-details {\n",
       "  grid-column: 2 / -1;\n",
       "}\n",
       "\n",
       ".xr-section-details {\n",
       "  display: none;\n",
       "  grid-column: 1 / -1;\n",
       "  margin-bottom: 5px;\n",
       "}\n",
       "\n",
       ".xr-section-summary-in:checked ~ .xr-section-details {\n",
       "  display: contents;\n",
       "}\n",
       "\n",
       ".xr-array-wrap {\n",
       "  grid-column: 1 / -1;\n",
       "  display: grid;\n",
       "  grid-template-columns: 20px auto;\n",
       "}\n",
       "\n",
       ".xr-array-wrap > label {\n",
       "  grid-column: 1;\n",
       "  vertical-align: top;\n",
       "}\n",
       "\n",
       ".xr-preview {\n",
       "  color: var(--xr-font-color3);\n",
       "}\n",
       "\n",
       ".xr-array-preview,\n",
       ".xr-array-data {\n",
       "  padding: 0 5px !important;\n",
       "  grid-column: 2;\n",
       "}\n",
       "\n",
       ".xr-array-data,\n",
       ".xr-array-in:checked ~ .xr-array-preview {\n",
       "  display: none;\n",
       "}\n",
       "\n",
       ".xr-array-in:checked ~ .xr-array-data,\n",
       ".xr-array-preview {\n",
       "  display: inline-block;\n",
       "}\n",
       "\n",
       ".xr-dim-list {\n",
       "  display: inline-block !important;\n",
       "  list-style: none;\n",
       "  padding: 0 !important;\n",
       "  margin: 0;\n",
       "}\n",
       "\n",
       ".xr-dim-list li {\n",
       "  display: inline-block;\n",
       "  padding: 0;\n",
       "  margin: 0;\n",
       "}\n",
       "\n",
       ".xr-dim-list:before {\n",
       "  content: '(';\n",
       "}\n",
       "\n",
       ".xr-dim-list:after {\n",
       "  content: ')';\n",
       "}\n",
       "\n",
       ".xr-dim-list li:not(:last-child):after {\n",
       "  content: ',';\n",
       "  padding-right: 5px;\n",
       "}\n",
       "\n",
       ".xr-has-index {\n",
       "  font-weight: bold;\n",
       "}\n",
       "\n",
       ".xr-var-list,\n",
       ".xr-var-item {\n",
       "  display: contents;\n",
       "}\n",
       "\n",
       ".xr-var-item > div,\n",
       ".xr-var-item label,\n",
       ".xr-var-item > .xr-var-name span {\n",
       "  background-color: var(--xr-background-color-row-even);\n",
       "  margin-bottom: 0;\n",
       "}\n",
       "\n",
       ".xr-var-item > .xr-var-name:hover span {\n",
       "  padding-right: 5px;\n",
       "}\n",
       "\n",
       ".xr-var-list > li:nth-child(odd) > div,\n",
       ".xr-var-list > li:nth-child(odd) > label,\n",
       ".xr-var-list > li:nth-child(odd) > .xr-var-name span {\n",
       "  background-color: var(--xr-background-color-row-odd);\n",
       "}\n",
       "\n",
       ".xr-var-name {\n",
       "  grid-column: 1;\n",
       "}\n",
       "\n",
       ".xr-var-dims {\n",
       "  grid-column: 2;\n",
       "}\n",
       "\n",
       ".xr-var-dtype {\n",
       "  grid-column: 3;\n",
       "  text-align: right;\n",
       "  color: var(--xr-font-color2);\n",
       "}\n",
       "\n",
       ".xr-var-preview {\n",
       "  grid-column: 4;\n",
       "}\n",
       "\n",
       ".xr-var-name,\n",
       ".xr-var-dims,\n",
       ".xr-var-dtype,\n",
       ".xr-preview,\n",
       ".xr-attrs dt {\n",
       "  white-space: nowrap;\n",
       "  overflow: hidden;\n",
       "  text-overflow: ellipsis;\n",
       "  padding-right: 10px;\n",
       "}\n",
       "\n",
       ".xr-var-name:hover,\n",
       ".xr-var-dims:hover,\n",
       ".xr-var-dtype:hover,\n",
       ".xr-attrs dt:hover {\n",
       "  overflow: visible;\n",
       "  width: auto;\n",
       "  z-index: 1;\n",
       "}\n",
       "\n",
       ".xr-var-attrs,\n",
       ".xr-var-data {\n",
       "  display: none;\n",
       "  background-color: var(--xr-background-color) !important;\n",
       "  padding-bottom: 5px !important;\n",
       "}\n",
       "\n",
       ".xr-var-attrs-in:checked ~ .xr-var-attrs,\n",
       ".xr-var-data-in:checked ~ .xr-var-data {\n",
       "  display: block;\n",
       "}\n",
       "\n",
       ".xr-var-data > table {\n",
       "  float: right;\n",
       "}\n",
       "\n",
       ".xr-var-name span,\n",
       ".xr-var-data,\n",
       ".xr-attrs {\n",
       "  padding-left: 25px !important;\n",
       "}\n",
       "\n",
       ".xr-attrs,\n",
       ".xr-var-attrs,\n",
       ".xr-var-data {\n",
       "  grid-column: 1 / -1;\n",
       "}\n",
       "\n",
       "dl.xr-attrs {\n",
       "  padding: 0;\n",
       "  margin: 0;\n",
       "  display: grid;\n",
       "  grid-template-columns: 125px auto;\n",
       "}\n",
       "\n",
       ".xr-attrs dt,\n",
       ".xr-attrs dd {\n",
       "  padding: 0;\n",
       "  margin: 0;\n",
       "  float: left;\n",
       "  padding-right: 10px;\n",
       "  width: auto;\n",
       "}\n",
       "\n",
       ".xr-attrs dt {\n",
       "  font-weight: normal;\n",
       "  grid-column: 1;\n",
       "}\n",
       "\n",
       ".xr-attrs dt:hover span {\n",
       "  display: inline-block;\n",
       "  background: var(--xr-background-color);\n",
       "  padding-right: 10px;\n",
       "}\n",
       "\n",
       ".xr-attrs dd {\n",
       "  grid-column: 2;\n",
       "  white-space: pre-wrap;\n",
       "  word-break: break-all;\n",
       "}\n",
       "\n",
       ".xr-icon-database,\n",
       ".xr-icon-file-text2 {\n",
       "  display: inline-block;\n",
       "  vertical-align: middle;\n",
       "  width: 1em;\n",
       "  height: 1.5em !important;\n",
       "  stroke-width: 0;\n",
       "  stroke: currentColor;\n",
       "  fill: currentColor;\n",
       "}\n",
       "</style><pre class='xr-text-repr-fallback'>&lt;xarray.DataArray &#x27;time&#x27; (time: 360)&gt;\n",
       "array([cftime.Datetime360Day(2070, 1, 16, 0, 0, 0, 0, has_year_zero=False),\n",
       "       cftime.Datetime360Day(2070, 2, 16, 0, 0, 0, 0, has_year_zero=False),\n",
       "       cftime.Datetime360Day(2070, 3, 16, 0, 0, 0, 0, has_year_zero=False),\n",
       "       ...,\n",
       "       cftime.Datetime360Day(2099, 10, 16, 0, 0, 0, 0, has_year_zero=False),\n",
       "       cftime.Datetime360Day(2099, 11, 16, 0, 0, 0, 0, has_year_zero=False),\n",
       "       cftime.Datetime360Day(2099, 12, 16, 0, 0, 0, 0, has_year_zero=False)],\n",
       "      dtype=object)\n",
       "Coordinates:\n",
       "  * time     (time) object 2070-01-16 00:00:00 ... 2099-12-16 00:00:00\n",
       "    height   float64 1.5\n",
       "Attributes:\n",
       "    bounds:         time_bnds\n",
       "    axis:           T\n",
       "    long_name:      time\n",
       "    standard_name:  time</pre><div class='xr-wrap' hidden><div class='xr-header'><div class='xr-obj-type'>xarray.DataArray</div><div class='xr-array-name'>'time'</div><ul class='xr-dim-list'><li><span class='xr-has-index'>time</span>: 360</li></ul></div><ul class='xr-sections'><li class='xr-section-item'><div class='xr-array-wrap'><input id='section-4f94bfce-39ad-460c-bb60-67113cabee03' class='xr-array-in' type='checkbox' checked><label for='section-4f94bfce-39ad-460c-bb60-67113cabee03' title='Show/hide data repr'><svg class='icon xr-icon-database'><use xlink:href='#icon-database'></use></svg></label><div class='xr-array-preview xr-preview'><span>2070-01-16 00:00:00 2070-02-16 00:00:00 ... 2099-12-16 00:00:00</span></div><div class='xr-array-data'><pre>array([cftime.Datetime360Day(2070, 1, 16, 0, 0, 0, 0, has_year_zero=False),\n",
       "       cftime.Datetime360Day(2070, 2, 16, 0, 0, 0, 0, has_year_zero=False),\n",
       "       cftime.Datetime360Day(2070, 3, 16, 0, 0, 0, 0, has_year_zero=False),\n",
       "       ...,\n",
       "       cftime.Datetime360Day(2099, 10, 16, 0, 0, 0, 0, has_year_zero=False),\n",
       "       cftime.Datetime360Day(2099, 11, 16, 0, 0, 0, 0, has_year_zero=False),\n",
       "       cftime.Datetime360Day(2099, 12, 16, 0, 0, 0, 0, has_year_zero=False)],\n",
       "      dtype=object)</pre></div></div></li><li class='xr-section-item'><input id='section-ecf7f722-8a48-4d53-b763-fc2e775ac72c' class='xr-section-summary-in' type='checkbox'  checked><label for='section-ecf7f722-8a48-4d53-b763-fc2e775ac72c' class='xr-section-summary' >Coordinates: <span>(2)</span></label><div class='xr-section-inline-details'></div><div class='xr-section-details'><ul class='xr-var-list'><li class='xr-var-item'><div class='xr-var-name'><span class='xr-has-index'>time</span></div><div class='xr-var-dims'>(time)</div><div class='xr-var-dtype'>object</div><div class='xr-var-preview xr-preview'>2070-01-16 00:00:00 ... 2099-12-...</div><input id='attrs-6148ca67-0f5a-41c1-8e34-1e7d010502b7' class='xr-var-attrs-in' type='checkbox' ><label for='attrs-6148ca67-0f5a-41c1-8e34-1e7d010502b7' title='Show/Hide attributes'><svg class='icon xr-icon-file-text2'><use xlink:href='#icon-file-text2'></use></svg></label><input id='data-eabb9001-6d41-4cc9-8445-e42da694c496' class='xr-var-data-in' type='checkbox'><label for='data-eabb9001-6d41-4cc9-8445-e42da694c496' title='Show/Hide data repr'><svg class='icon xr-icon-database'><use xlink:href='#icon-database'></use></svg></label><div class='xr-var-attrs'><dl class='xr-attrs'><dt><span>bounds :</span></dt><dd>time_bnds</dd><dt><span>axis :</span></dt><dd>T</dd><dt><span>long_name :</span></dt><dd>time</dd><dt><span>standard_name :</span></dt><dd>time</dd></dl></div><div class='xr-var-data'><pre>array([cftime.Datetime360Day(2070, 1, 16, 0, 0, 0, 0, has_year_zero=False),\n",
       "       cftime.Datetime360Day(2070, 2, 16, 0, 0, 0, 0, has_year_zero=False),\n",
       "       cftime.Datetime360Day(2070, 3, 16, 0, 0, 0, 0, has_year_zero=False),\n",
       "       ...,\n",
       "       cftime.Datetime360Day(2099, 10, 16, 0, 0, 0, 0, has_year_zero=False),\n",
       "       cftime.Datetime360Day(2099, 11, 16, 0, 0, 0, 0, has_year_zero=False),\n",
       "       cftime.Datetime360Day(2099, 12, 16, 0, 0, 0, 0, has_year_zero=False)],\n",
       "      dtype=object)</pre></div></li><li class='xr-var-item'><div class='xr-var-name'><span>height</span></div><div class='xr-var-dims'>()</div><div class='xr-var-dtype'>float64</div><div class='xr-var-preview xr-preview'>1.5</div><input id='attrs-80b02f8b-059f-4831-9481-c8eff77b7d7b' class='xr-var-attrs-in' type='checkbox' ><label for='attrs-80b02f8b-059f-4831-9481-c8eff77b7d7b' title='Show/Hide attributes'><svg class='icon xr-icon-file-text2'><use xlink:href='#icon-file-text2'></use></svg></label><input id='data-8f1dd475-b641-4701-8af1-cdd481f76861' class='xr-var-data-in' type='checkbox'><label for='data-8f1dd475-b641-4701-8af1-cdd481f76861' title='Show/Hide data repr'><svg class='icon xr-icon-database'><use xlink:href='#icon-database'></use></svg></label><div class='xr-var-attrs'><dl class='xr-attrs'><dt><span>units :</span></dt><dd>m</dd><dt><span>axis :</span></dt><dd>Z</dd><dt><span>positive :</span></dt><dd>up</dd><dt><span>long_name :</span></dt><dd>height</dd><dt><span>standard_name :</span></dt><dd>height</dd></dl></div><div class='xr-var-data'><pre>array(1.5)</pre></div></li></ul></div></li><li class='xr-section-item'><input id='section-a20934e5-3341-4e24-8455-3720e779805f' class='xr-section-summary-in' type='checkbox'  checked><label for='section-a20934e5-3341-4e24-8455-3720e779805f' class='xr-section-summary' >Attributes: <span>(4)</span></label><div class='xr-section-inline-details'></div><div class='xr-section-details'><dl class='xr-attrs'><dt><span>bounds :</span></dt><dd>time_bnds</dd><dt><span>axis :</span></dt><dd>T</dd><dt><span>long_name :</span></dt><dd>time</dd><dt><span>standard_name :</span></dt><dd>time</dd></dl></div></li></ul></div></div>"
      ],
      "text/plain": [
       "<xarray.DataArray 'time' (time: 360)>\n",
       "array([cftime.Datetime360Day(2070, 1, 16, 0, 0, 0, 0, has_year_zero=False),\n",
       "       cftime.Datetime360Day(2070, 2, 16, 0, 0, 0, 0, has_year_zero=False),\n",
       "       cftime.Datetime360Day(2070, 3, 16, 0, 0, 0, 0, has_year_zero=False),\n",
       "       ...,\n",
       "       cftime.Datetime360Day(2099, 10, 16, 0, 0, 0, 0, has_year_zero=False),\n",
       "       cftime.Datetime360Day(2099, 11, 16, 0, 0, 0, 0, has_year_zero=False),\n",
       "       cftime.Datetime360Day(2099, 12, 16, 0, 0, 0, 0, has_year_zero=False)],\n",
       "      dtype=object)\n",
       "Coordinates:\n",
       "  * time     (time) object 2070-01-16 00:00:00 ... 2099-12-16 00:00:00\n",
       "    height   float64 1.5\n",
       "Attributes:\n",
       "    bounds:         time_bnds\n",
       "    axis:           T\n",
       "    long_name:      time\n",
       "    standard_name:  time"
      ]
     },
     "execution_count": 9,
     "metadata": {},
     "output_type": "execute_result"
    }
   ],
   "source": [
    "ds_70_100 = ds_combined.sel(time=slice('2070-01-01','2100-01-01'))\n",
    "ds_70_100.time"
   ]
  },
  {
   "cell_type": "markdown",
   "metadata": {},
   "source": [
    "## Let's calculate seasonal means over the entire time period"
   ]
  },
  {
   "cell_type": "code",
   "execution_count": null,
   "metadata": {},
   "outputs": [],
   "source": [
    "ds_70_100_seasons = ds_70_100.groupby('time.season').mean(dim='time')"
   ]
  },
  {
   "cell_type": "markdown",
   "metadata": {},
   "source": [
    "let's check that summer and winter look different"
   ]
  },
  {
   "cell_type": "code",
   "execution_count": null,
   "metadata": {},
   "outputs": [],
   "source": [
    "ds_70_100_seasons.tas.sel(season='DJF').plot()"
   ]
  },
  {
   "cell_type": "code",
   "execution_count": null,
   "metadata": {},
   "outputs": [],
   "source": [
    "ds_70_100_seasons.tas.sel(season='JJA').plot()"
   ]
  },
  {
   "cell_type": "markdown",
   "metadata": {},
   "source": [
    "Yup, Northern hemisphere summer is much warmer than the winter."
   ]
  },
  {
   "cell_type": "markdown",
   "metadata": {},
   "source": [
    "## NOTE - this simple approach only works as UKESM1 has 30-day months, to deal with months with different numbers of days a more complicated approach is needed: https://xarray.pydata.org/en/stable/examples/monthly-means.html\n",
    "\n",
    "## NOTE - this fix has not been implemented in the functions below so unless another model you'd like to look at also has only 30-day months then the calculations will be off."
   ]
  },
  {
   "cell_type": "markdown",
   "metadata": {},
   "source": [
    "## Open the nc_processing.py file and read through the get_seasonal_mean_std and get_timeslice functions. These wrap up much of what I showed above into a simple to use package."
   ]
  },
  {
   "cell_type": "code",
   "execution_count": null,
   "metadata": {},
   "outputs": [],
   "source": [
    "data_dir='/home/users/pjirvine/data/' # !!!!!!!!!!!!! CHANGE THIS !!!!!!!!!!!!!!!!!!\n",
    "\n",
    "model='UKESM1-0-LL'\n",
    "centre='MOHC'\n",
    "\n",
    "var='tas'\n",
    "domain='Amon'\n",
    "\n",
    "exp='G6sulfur'\n",
    "project='GeoMIP'\n",
    "\n",
    "run='r1i1p1f2'\n",
    "\n",
    "grid='gn'\n",
    "\n",
    "season='ANN'\n",
    "dates=['2070-01-01','2100-01-01']\n",
    "\n",
    "time_files=1\n",
    "\n",
    "# load the arguments into a list then... \n",
    "args=[season,dates,data_dir,model,centre,var,domain,exp,project,run,grid,time_files]\n",
    "ds_mean, ds_std = get_seasonal_mean_std(*args) # ... unpack them into the function.\n",
    "\n",
    "# Let's check the data looks right\n",
    "ds_mean[var].plot()"
   ]
  },
  {
   "cell_type": "markdown",
   "metadata": {},
   "source": [
    "# Let's try a simple anomaly"
   ]
  },
  {
   "cell_type": "code",
   "execution_count": null,
   "metadata": {},
   "outputs": [],
   "source": [
    "# load the arguments into a list then... \n",
    "\n",
    "# just change one variable, the experiment and leave the others as they are.\n",
    "exp='G6solar'\n",
    "args=[season,dates,data_dir,model,centre,var,domain,exp,project,run,grid,time_files]\n",
    "ds_mean_2, ds_std_2 = get_seasonal_mean_std(*args) # ... unpack them into the function.\n",
    "\n",
    "# Let's plot G6sulfur - Gsolar:\n",
    "fig = plt.figure(figsize=(9,6)) # let's do a few things to make the plot look nice\n",
    "ax = plt.axes(projection=ccrs.Robinson())\n",
    "ax.coastlines()\n",
    "ax.gridlines()\n",
    "(ds_mean[var] - ds_mean_2[var]).plot(ax=ax, transform=ccrs.PlateCarree(), cbar_kwargs={'shrink': 0.5, 'label':'surface air temperature'})"
   ]
  },
  {
   "cell_type": "markdown",
   "metadata": {},
   "source": [
    "## Right, let's check to see how much of that is statistically significant\n",
    "\n",
    "The ttest_sub() function is in the analysis.py script. "
   ]
  },
  {
   "cell_type": "code",
   "execution_count": null,
   "metadata": {},
   "outputs": [],
   "source": [
    "num_years = 30 # the t-test needs to know how long our sample is.\n",
    "\n",
    "# ttest_sub returns a numpy array of P-values, where P is between 0 and 1. for 95% significance P is below 0.05\n",
    "ttest_pvalue = ttest_sub(ds_mean[var],ds_std[var],num_years,ds_mean_2[var],ds_std_2[var],num_years)\n",
    "\n",
    "# Let's put the ttest results into the same format as our xarray datasets\n",
    "ds_ttest = xr.full_like(ds_mean, 0.0) # copy dataset format from ds_mean and set data values to 0.\n",
    "ds_ttest.rename(name_dict={var:'p_value'}) # rename the variable to p_value\n",
    "ds_ttest['p_value'] = (['lat','lon'],ttest_pvalue<0.05) # Fill in the blank values with our ttest results"
   ]
  },
  {
   "cell_type": "markdown",
   "metadata": {},
   "source": [
    "### Let's recreate our anomaly plot, this time with stippling to indicate which areas are statistically significant."
   ]
  },
  {
   "cell_type": "code",
   "execution_count": null,
   "metadata": {},
   "outputs": [],
   "source": [
    "fig = plt.figure(figsize=(9,6))\n",
    "ax = plt.axes(projection=ccrs.Robinson())\n",
    "ax.coastlines()\n",
    "ax.gridlines()\n",
    "(ds_mean[var] - ds_mean_2[var]).plot(ax=ax, transform=ccrs.PlateCarree(), cbar_kwargs={'shrink': 0.6, 'label':'surface air temperature (K)'})\n",
    "cf = ds_ttest['p_value'].plot.contourf(ax=ax, transform=ccrs.PlateCarree(), levels=[0,0.05], hatches=[\"\",\"....\"], alpha=0, add_colorbar=False) # cbar_kwargs={'shrink': 0.0})\n",
    "ax.set_title('G6sulfur - G6solar Temperature anomaly')"
   ]
  },
  {
   "cell_type": "markdown",
   "metadata": {},
   "source": [
    "## Only the hatched areas are statistically significant"
   ]
  },
  {
   "cell_type": "markdown",
   "metadata": {},
   "source": [
    "### this is the standard convention but it covers up the most relevant data, so let's reverse it so statistically significant places are unstippled."
   ]
  },
  {
   "cell_type": "code",
   "execution_count": null,
   "metadata": {},
   "outputs": [],
   "source": [
    "fig = plt.figure(figsize=(9,6))\n",
    "ax = plt.axes(projection=ccrs.Robinson())\n",
    "ax.coastlines()\n",
    "ax.gridlines()\n",
    "(ds_mean[var] - ds_mean_2[var]).plot(ax=ax, transform=ccrs.PlateCarree(), cbar_kwargs={'shrink': 0.6, 'label':'surface air temperature (K)'})\n",
    "cf = ds_ttest['p_value'].plot.contourf(ax=ax, transform=ccrs.PlateCarree(), levels=[0,0.05], hatches=[\"....\",\"\"], alpha=0, add_colorbar=False) # cbar_kwargs={'shrink': 0.0})\n",
    "ax.set_title('G6sulfur - G6solar Temperature anomaly')"
   ]
  },
  {
   "cell_type": "markdown",
   "metadata": {},
   "source": [
    "# Let's find the global-mean temperature and land-mean temperature"
   ]
  },
  {
   "cell_type": "code",
   "execution_count": null,
   "metadata": {},
   "outputs": [],
   "source": [
    "# Use the get_fixed() function to return the gridcell area and land fraction for the model we want.\n",
    "ds_area, ds_land = get_fixed('MOHC','UKESM1-0-LL') \n",
    "# NOTE - to do this for another model, you'll need to look up the run number used in the piControl experiment which stores the fx variables.\n",
    "# search on CEDA archive for \"areacella\" and \"<MODEL NAME>\" and it should show you."
   ]
  },
  {
   "cell_type": "code",
   "execution_count": null,
   "metadata": {},
   "outputs": [],
   "source": [
    "# Let's see what's in the area dataset \n",
    "ds_area['areacella']"
   ]
  },
  {
   "cell_type": "markdown",
   "metadata": {},
   "source": [
    "You can see that all values on the same latitude are the same, which makes sense."
   ]
  },
  {
   "cell_type": "code",
   "execution_count": null,
   "metadata": {},
   "outputs": [],
   "source": [
    "# What's the total area of this model:\n",
    "ds_area['areacella'].sum()"
   ]
  },
  {
   "cell_type": "markdown",
   "metadata": {},
   "source": [
    "Great! 5.1*10^14 is the area of the earth."
   ]
  },
  {
   "cell_type": "code",
   "execution_count": null,
   "metadata": {},
   "outputs": [],
   "source": [
    "# Let's see what's in the land fraction dataset \n",
    "ds_land['sftlf']"
   ]
  },
  {
   "cell_type": "markdown",
   "metadata": {},
   "source": [
    "land fraction is recorded as a percentage so has values between 0 and 100. NOTE - the array preview shows the first and last 3 rows and columns in the array, starting from the south pole (100% land) and ending at the north pole (100% water)."
   ]
  },
  {
   "cell_type": "markdown",
   "metadata": {},
   "source": [
    "### Let's calculate the global-mean temperature in the G6sulfur experiment"
   ]
  },
  {
   "cell_type": "code",
   "execution_count": null,
   "metadata": {},
   "outputs": [],
   "source": [
    "# Let's define a data array for the area weight of the gridcells\n",
    "da_weight = ds_area['areacella'] / ds_area['areacella'].sum()\n",
    "da_weight = da_weight.rename(new_name_or_name_dict='area_weight')\n",
    "da_weight"
   ]
  },
  {
   "cell_type": "code",
   "execution_count": null,
   "metadata": {},
   "outputs": [],
   "source": [
    "#looks good let's check that it sums to 1.\n",
    "da_weight.sum()"
   ]
  },
  {
   "cell_type": "markdown",
   "metadata": {},
   "source": [
    "Perfect. Now let's calculate our global-mean temperature for G6sulfur"
   ]
  },
  {
   "cell_type": "code",
   "execution_count": null,
   "metadata": {},
   "outputs": [],
   "source": [
    "# multiply each temperature value with it's corresponding fraction of total area, then sum to find the global mean.\n",
    "(ds_mean[var]*da_weight).sum() - 273.15 # convert from K to C."
   ]
  },
  {
   "cell_type": "markdown",
   "metadata": {},
   "source": [
    "Great, we've got a global-mean temperature of 17.3C which sounds about right (global-mean temp in the real world was ~13C before pre-industrial, and models are usually around that and we've had some warming in this scenario.)"
   ]
  },
  {
   "cell_type": "markdown",
   "metadata": {},
   "source": [
    "## Let's calculate the land-mean temperature\n",
    "\n",
    "First let's get the land area"
   ]
  },
  {
   "cell_type": "code",
   "execution_count": null,
   "metadata": {},
   "outputs": [],
   "source": [
    "# land area = gricell area * land fraction ([0-100] * 0.01)\n",
    "da_land_area = ds_area['areacella'] * ds_land['sftlf'] * 0.01 \n",
    "da_land_area.sum()"
   ]
  },
  {
   "cell_type": "markdown",
   "metadata": {},
   "source": [
    "Great, the land area looks right at about 30% of the global area."
   ]
  },
  {
   "cell_type": "code",
   "execution_count": null,
   "metadata": {},
   "outputs": [],
   "source": [
    "# Now let's create a land area weighting\n",
    "da_land_weight = da_land_area / da_land_area.sum()\n",
    "da_land_weight.sum()"
   ]
  },
  {
   "cell_type": "code",
   "execution_count": null,
   "metadata": {},
   "outputs": [],
   "source": [
    "# Now let's create an ocean area weighting\n",
    "da_ocean_area = ds_area['areacella'] * abs(ds_land['sftlf'] * 0.01 - 1.0)\n",
    "da_ocean_weight = da_ocean_area / da_ocean_area.sum()\n",
    "da_ocean_weight.sum()"
   ]
  },
  {
   "cell_type": "markdown",
   "metadata": {},
   "source": [
    "Great, this also sums to 1."
   ]
  },
  {
   "cell_type": "markdown",
   "metadata": {},
   "source": [
    "Now let's calculate the land-mean temperature"
   ]
  },
  {
   "cell_type": "code",
   "execution_count": null,
   "metadata": {},
   "outputs": [],
   "source": [
    "(ds_mean[var]*da_land_weight).sum() - 273.15 # convert from K to C."
   ]
  },
  {
   "cell_type": "markdown",
   "metadata": {},
   "source": [
    "Hmm, 12.7C is quite a lot lower. does that sound right? Let's plot the temperature and see."
   ]
  },
  {
   "cell_type": "code",
   "execution_count": null,
   "metadata": {},
   "outputs": [],
   "source": [
    "ds_mean[var].plot()"
   ]
  },
  {
   "cell_type": "markdown",
   "metadata": {},
   "source": [
    "Yes it does. Look how cold antarctica is, and look how much of the yellow (warm) area is ocean."
   ]
  },
  {
   "cell_type": "markdown",
   "metadata": {},
   "source": [
    "# Now let's repeat the analysis above but for the whole G6sulfur and G6solar ensemble."
   ]
  },
  {
   "cell_type": "code",
   "execution_count": null,
   "metadata": {},
   "outputs": [],
   "source": [
    "data_dir='/home/users/pjirvine/data/' # !!!!!!!!!!!!! CHANGE THIS !!!!!!!!!!!!!!!!!!\n",
    "\n",
    "model='UKESM1-0-LL'\n",
    "centre='MOHC'\n",
    "\n",
    "var='tas'\n",
    "domain='Amon'\n",
    "\n",
    "exp='G6sulfur'\n",
    "project='GeoMIP'\n",
    "\n",
    "run='r1i1p1f2'\n",
    "\n",
    "grid='gn'\n",
    "\n",
    "season='ANN'\n",
    "dates=['2070-01-01','2100-01-01']\n",
    "\n",
    "# This time we specify a list of runs\n",
    "runs=['r1i1p1f2','r4i1p1f2','r8i1p1f2']\n",
    "\n",
    "ds_mean, ds_std = get_ens_seasonal_mean_std(season, dates, data_dir, model, centre, var, domain, exp, project, runs, grid, time_files=1)"
   ]
  },
  {
   "cell_type": "code",
   "execution_count": null,
   "metadata": {},
   "outputs": [],
   "source": [
    "ds_mean_2, ds_std_2 = get_ens_seasonal_mean_std(season, dates, data_dir, model, centre, var, domain, 'G6solar', project, runs, grid, time_files=1)"
   ]
  },
  {
   "cell_type": "markdown",
   "metadata": {},
   "source": [
    "### let's recalculate our T-Test with our 3 ensemble members\n",
    "\n",
    "NOTE - as we're combining 3 30-year runs our sample is 3 times greater, so we set num_years to 90."
   ]
  },
  {
   "cell_type": "code",
   "execution_count": null,
   "metadata": {},
   "outputs": [],
   "source": [
    "num_years = 90 # the t-test needs to know how long our sample is.\n",
    "\n",
    "# ttest_sub returns a numpy array of P-values, where P is between 0 and 1. for 95% significance P is below 0.05\n",
    "ttest_pvalue = ttest_sub(ds_mean[var],ds_std[var],num_years,ds_mean_2[var],ds_std_2[var],num_years)\n",
    "\n",
    "# Let's put the ttest results into the same format as our xarray datasets\n",
    "ds_ttest = xr.full_like(ds_mean, 0.0) # copy dataset format from ds_mean and set data values to 0.\n",
    "ds_ttest.rename(name_dict={var:'p_value'}) # rename the variable to p_value\n",
    "ds_ttest['p_value'] = (['lat','lon'],ttest_pvalue<0.05) # Fill in the blank values with our ttest results"
   ]
  },
  {
   "cell_type": "code",
   "execution_count": null,
   "metadata": {},
   "outputs": [],
   "source": [
    "fig = plt.figure(figsize=(9,6))\n",
    "ax = plt.axes(projection=ccrs.Robinson())\n",
    "ax.coastlines()\n",
    "ax.gridlines()\n",
    "(ds_mean[var] - ds_mean_2[var]).plot(ax=ax, transform=ccrs.PlateCarree(), cbar_kwargs={'shrink': 0.6, 'label':'surface air temperature (K)'})\n",
    "cf = ds_ttest['p_value'].plot.contourf(ax=ax, transform=ccrs.PlateCarree(), levels=[0,0.05], hatches=[\"....\",\"\"], alpha=0, add_colorbar=False) # cbar_kwargs={'shrink': 0.0})\n",
    "ax.set_title('G6sulfur - G6solar Temperature anomaly')"
   ]
  },
  {
   "cell_type": "markdown",
   "metadata": {},
   "source": [
    "### Great, by averaging over 3 runs we've reduced the impact of natural variability and more of the map is statistically significant."
   ]
  },
  {
   "cell_type": "markdown",
   "metadata": {},
   "source": [
    "# Let's try my moderated / exacerbated code, and let's make some multi-panel plots.\n",
    "\n",
    "That's the analysis in my 2019 paper, table 1, etc.: https://www.nature.com/articles/s41558-019-0398-8\n",
    "\n",
    "First, we'll load precipitation (pr) data for the 3 experiments we'll be comparing:\n",
    "- Historical 1960-1990\n",
    "- SSP5-85 2070-2100\n",
    "- G6sulfur 2070-2100"
   ]
  },
  {
   "cell_type": "code",
   "execution_count": null,
   "metadata": {},
   "outputs": [],
   "source": [
    "data_dir='/home/users/pjirvine/data/' # !!!!!!!!!!!!! CHANGE THIS !!!!!!!!!!!!!!!!!!\n",
    "\n",
    "# Set variables that are common to all experiments.\n",
    "model='UKESM1-0-LL'\n",
    "centre='MOHC'\n",
    "var='pr' \n",
    "domain='Amon' # pr is an Amon variable.\n",
    "grid='gn'\n",
    "season='ANN'\n",
    "\n",
    "# specify a list of runs\n",
    "runs=['r1i1p1f2','r4i1p1f2','r8i1p1f2']\n",
    "\n",
    "# Load G6sulfur ensemble-mean datasets\n",
    "exp='G6sulfur'\n",
    "project='GeoMIP'\n",
    "dates=['2070-01-01','2100-01-01']\n",
    "ds_G6sulfur_mean, ds_G6sulfur_std = get_ens_seasonal_mean_std(season, dates, data_dir, model, centre, var, domain, exp, project, runs, grid, time_files=1)# setting time files to zero.\n",
    "\n",
    "# Load ssp585 ensemble-mean datasets\n",
    "project='ScenarioMIP'\n",
    "exp='ssp585'\n",
    "dates=['2070-01-01','2100-01-01']\n",
    "ds_ssp585_mean, ds_ssp585_std = get_ens_seasonal_mean_std(season, dates, data_dir, model, centre, var, domain, exp, project, runs, grid, time_files=1)# setting time files to zero.\n",
    "\n",
    "# Load ssp585 ensemble-mean datasets\n",
    "project='CMIP'\n",
    "exp='historical'\n",
    "dates=['1960-01-01','1990-01-01']\n",
    "ds_historical_mean, ds_historical_std = get_ens_seasonal_mean_std(season, dates, data_dir, model, centre, var, domain, exp, project, runs, grid, time_files=1)# setting time files to zero."
   ]
  },
  {
   "cell_type": "markdown",
   "metadata": {},
   "source": [
    "### let's put this data into my better_worse_off function."
   ]
  },
  {
   "cell_type": "code",
   "execution_count": null,
   "metadata": {},
   "outputs": [],
   "source": [
    "# Call my better_worse_off function, passing in the data_arrays for the variable of interest rather than the full datasets.\n",
    "better, worse, dunno = better_worse_off(ds_G6sulfur_mean[var], ds_G6sulfur_std[var], ds_ssp585_mean[var], ds_ssp585_std[var], ds_historical_mean[var], ds_historical_std[var], 90, 0.05)"
   ]
  },
  {
   "cell_type": "markdown",
   "metadata": {},
   "source": [
    "Note - better and worse are returned in the same data_array format as the input data_arrays but dunno is a simple array... something to fix, maybe."
   ]
  },
  {
   "cell_type": "markdown",
   "metadata": {},
   "source": [
    "## Let's produce a multi-panel figure comparing the anomalies against the distribution of moderated and exacerbated places."
   ]
  },
  {
   "cell_type": "code",
   "execution_count": null,
   "metadata": {},
   "outputs": [],
   "source": [
    "# Let's convert to mm/day\n",
    "pr_convert = 86400. # kg / m^2 / s --> kg / day == mm / day\n",
    "\n",
    "fig = plt.figure(figsize=(18,12))\n",
    "\n",
    "\"\"\"\n",
    "First plot ssp5-85 anomaly\n",
    "\"\"\"\n",
    "# Create a multi-panel plot with 3 rows, and This plot goes into the first position, counting top-left to bottom right.\n",
    "# The code: (3, 1, 1) = (3 rows, 1 column, position 1)\n",
    "ax1 = plt.subplot(3, 1, 1, projection=ccrs.Robinson())\n",
    "ax1.coastlines()\n",
    "(pr_convert*(ds_ssp585_mean[var] - ds_historical_mean[var])).plot(ax=ax1, transform=ccrs.PlateCarree(), cbar_kwargs={'label':'precip (mm/day)'})\n",
    "ax1.set_title('SSP5-8.5 - Historical')\n",
    "\n",
    "\"\"\"\n",
    "Second plot G6sulfur anomaly\n",
    "\"\"\"\n",
    "# Create a multi-panel plot with 3 plots and This plot goes into row 1, column 1 --> (3, 1, 1).\n",
    "ax2 = plt.subplot(3, 1, 2, projection=ccrs.Robinson())\n",
    "ax2.coastlines()\n",
    "(pr_convert*(ds_G6sulfur_mean[var] - ds_historical_mean[var])).plot(ax=ax2, transform=ccrs.PlateCarree(), cbar_kwargs={'label':'precip (mm/day)'})\n",
    "ax2.set_title('G6sulfur - Historical')\n",
    "\n",
    "\"\"\"\n",
    "Third plot Moderated (+1, better) - Exacerbated (-1, worse)\n",
    "\"\"\"\n",
    "# Create a multi-panel plot with 3 plots and This plot goes into row 1, column 1 --> (3, 1, 1).\n",
    "ax3 = plt.subplot(3, 1, 3, projection=ccrs.Robinson())\n",
    "ax3.coastlines()\n",
    "# convert better and worse from boolean (True, False) to 1s and zeros by adding 0, then pl0t\n",
    "((better + 0) - (worse + 0)).plot(ax=ax3, transform=ccrs.PlateCarree(), cbar_kwargs={'label':'Moderated / Exacerbated'})\n",
    "ax3.set_title('Moderated or Exacerbated')\n",
    "\n",
    "fig.tight_layout()"
   ]
  },
  {
   "cell_type": "markdown",
   "metadata": {},
   "source": [
    "Few things to figure out to make our multi-panel figures look really nice: getting columns to work nicely, setting common colorbar settings, changing colorscales, title and colorbar label text size, etc. details on how in here: https://kpegion.github.io/Pangeo-at-AOES/examples/multi-panel-cartopy.html"
   ]
  },
  {
   "cell_type": "markdown",
   "metadata": {},
   "source": [
    "## Nice. G6sulfur has reduced the magnitude of precipitation in most places (red / moderated in bottom panel), increasing the magnitude of change in only a small fraction of places (blue / exacerbated). \n",
    "\n",
    "It's hard to see this by eye-balling the top 2 panels as the colorscales are different, but that in itself is telling.\n",
    "\n",
    "### Now let's calculate the global- and land-area weighted fraction that sees precipitation change moderated and exacerbated"
   ]
  },
  {
   "cell_type": "code",
   "execution_count": 37,
   "metadata": {},
   "outputs": [
    {
     "name": "stdout",
     "output_type": "stream",
     "text": [
      "Fraction of world that sees precipitation moderated: 56.45 %\n",
      "Fraction of world that sees precipitation exacerbated: 7.01 %\n",
      "Fraction of land that sees precipitation moderated: 53.84 %\n",
      "Fraction of land that sees precipitation exacerbated: 9.92 %\n"
     ]
    }
   ],
   "source": [
    "# Calculate fraction as % by multiplying the \"better\" data-array (1 for better, 0 for other) by the area weight array, then summing over all points.\n",
    "fraction = 100.*((better + 0) * da_weight).sum().values\n",
    "print('Fraction of world that sees precipitation moderated: {:.2f} %'.format(fraction))\n",
    "\n",
    "fraction = 100.*((worse + 0) * da_weight).sum().values\n",
    "print('Fraction of world that sees precipitation exacerbated: {:.2f} %'.format(fraction))\n",
    "\n",
    "# Calculate fraction as % by multiplying the \"better\" data-array (1 for better, 0 for other) by the area weight array, then summing over all points.\n",
    "fraction = 100.*((better + 0) * da_land_weight).sum().values\n",
    "print('Fraction of land that sees precipitation moderated: {:.2f} %'.format(fraction))\n",
    "\n",
    "fraction = 100.*((worse + 0) * da_land_weight).sum().values\n",
    "print('Fraction of land that sees precipitation exacerbated: {:.2f} %'.format(fraction))\n"
   ]
  },
  {
   "cell_type": "markdown",
   "metadata": {},
   "source": [
    "#### These results are somewhat worse than what I found in my previous work but still there's a much greater fraction of world seeing precipitation change reduced by G6sulfur than there is seeing precipitation change increased."
   ]
  },
  {
   "cell_type": "markdown",
   "metadata": {},
   "source": [
    "# Let's try some other models -- work in progress.\n",
    "\n",
    "First let's build a dictionary to store some model-specific and experiment-specific definitions we can use later"
   ]
  },
  {
   "cell_type": "code",
   "execution_count": 38,
   "metadata": {},
   "outputs": [
    {
     "name": "stdout",
     "output_type": "stream",
     "text": [
      "MPI-ESM1-2-HR ssp585\n",
      "[Errno 2] No such file or directory: '/badc/cmip6/data/CMIP6/ScenarioMIP/MPI-M/MPI-ESM1-2-HR/ssp585/'\n"
     ]
    },
    {
     "data": {
      "text/plain": [
       "\"\\nNOTE - Python uses indentation to mark the end of loops, function definitions, etc. I find it useful to label these ends with comments, they're not needed.\\n\""
      ]
     },
     "execution_count": 38,
     "metadata": {},
     "output_type": "execute_result"
    }
   ],
   "source": [
    "# Here's the list of all models that completed the G6sulfur experiment\n",
    "model_list = ['CESM2-WACCM','IPSL-CM6A-LR','MPI-ESM1-2-HR','MPI-ESM1-2-LR','UKESM1-0-LL'] \n",
    "\n",
    "# let's store all the model-specific details in dictionaries\n",
    "\n",
    "centre_dict = {'CESM2-WACCM':'NCAR',\n",
    "               'IPSL-CM6A-LR':'IPSL',\n",
    "               'MPI-ESM1-2-HR':'MPI-M',\n",
    "               'MPI-ESM1-2-LR':'MPI-M',\n",
    "               'UKESM1-0-LL':'MOHC',}\n",
    "\n",
    "grid_dict = {'CESM2-WACCM':'gn',\n",
    "             'IPSL-CM6A-LR':'gr',\n",
    "             'MPI-ESM1-2-HR':'gn',\n",
    "             'MPI-ESM1-2-LR':'gn',\n",
    "             'UKESM1-0-LL':'gn',}\n",
    "\n",
    "# Let's do the same for projects for our experiments:\n",
    "\n",
    "exp_list = ['historical','ssp585','G6sulfur','G6solar']\n",
    "\n",
    "project_dict = {'historical':'CMIP',\n",
    "                'ssp585':'ScenarioMIP',\n",
    "                'G6sulfur':'GeoMIP',\n",
    "                'G6solar':'GeoMIP',}\n",
    "\n",
    "# Let's find all the runs for all of the model / experiment combinations:\n",
    "\n",
    "run_dict = {} # to store the list of runs for each combination\n",
    "\n",
    "# each experiment for each model may have different runs, so we loop over all combinations.\n",
    "for model in model_list:\n",
    "    for exp in exp_list:\n",
    "        \n",
    "        # Specify the directory just above where the runs are stored, so we can check what's in it.\n",
    "        run_dir='/badc/cmip6/data/CMIP6/{project}/{centre}/{model}/{exp}/'.format(model=model, centre=centre_dict[model], exp=exp, project=project_dict[exp])\n",
    "        \n",
    "        # This try / except structure catches errors and rather than crashing does something.\n",
    "        try:\n",
    "            # os.listdir() lists the content of a directory, they stuff around it screens out all non-directory results (isdir() checks if its a directory)\n",
    "            run_dirs = [ name for name in os.listdir(run_dir) if os.path.isdir(os.path.join(run_dir, name)) ]\n",
    "            # store the resulting list of runs in our dictionary.\n",
    "            run_dict[model,exp] = run_dirs\n",
    "        # If an error is found let's print it out\n",
    "        except FileNotFoundError as error:\n",
    "            print(model,exp)\n",
    "            print(error)\n",
    "            run_dict[model,exp] = None # None is a special \"empty\" type of variable.\n",
    "        #end try\n",
    "    #end exp loop\n",
    "#end model loop\n",
    "\"\"\"\n",
    "NOTE - Python uses indentation to mark the end of loops, function definitions, etc. I find it useful to label these ends with comments, they're not needed.\n",
    "\"\"\""
   ]
  },
  {
   "cell_type": "code",
   "execution_count": 39,
   "metadata": {},
   "outputs": [
    {
     "data": {
      "text/plain": [
       "{('CESM2-WACCM', 'historical'): ['r1i1p1f1', 'r2i1p1f1', 'r3i1p1f1'],\n",
       " ('CESM2-WACCM', 'ssp585'): ['r1i1p1f1',\n",
       "  'r2i1p1f1',\n",
       "  'r3i1p1f1',\n",
       "  'r4i1p1f1',\n",
       "  'r5i1p1f1'],\n",
       " ('CESM2-WACCM', 'G6sulfur'): ['r1i1p1f2', 'r2i1p1f2'],\n",
       " ('CESM2-WACCM', 'G6solar'): ['r1i1p1f1', 'r1i2p1f1'],\n",
       " ('IPSL-CM6A-LR', 'historical'): ['r10i1p1f1',\n",
       "  'r11i1p1f1',\n",
       "  'r12i1p1f1',\n",
       "  'r13i1p1f1',\n",
       "  'r14i1p1f1',\n",
       "  'r15i1p1f1',\n",
       "  'r16i1p1f1',\n",
       "  'r17i1p1f1',\n",
       "  'r18i1p1f1',\n",
       "  'r19i1p1f1',\n",
       "  'r1i1p1f1',\n",
       "  'r20i1p1f1',\n",
       "  'r21i1p1f1',\n",
       "  'r22i1p1f1',\n",
       "  'r23i1p1f1',\n",
       "  'r24i1p1f1',\n",
       "  'r25i1p1f1',\n",
       "  'r26i1p1f1',\n",
       "  'r27i1p1f1',\n",
       "  'r28i1p1f1',\n",
       "  'r29i1p1f1',\n",
       "  'r2i1p1f1',\n",
       "  'r30i1p1f1',\n",
       "  'r31i1p1f1',\n",
       "  'r32i1p1f1',\n",
       "  'r3i1p1f1',\n",
       "  'r4i1p1f1',\n",
       "  'r5i1p1f1',\n",
       "  'r6i1p1f1',\n",
       "  'r7i1p1f1',\n",
       "  'r8i1p1f1',\n",
       "  'r9i1p1f1'],\n",
       " ('IPSL-CM6A-LR', 'ssp585'): ['r14i1p1f1',\n",
       "  'r1i1p1f1',\n",
       "  'r2i1p1f1',\n",
       "  'r3i1p1f1',\n",
       "  'r4i1p1f1',\n",
       "  'r6i1p1f1'],\n",
       " ('IPSL-CM6A-LR', 'G6sulfur'): ['r1i1p1f1'],\n",
       " ('IPSL-CM6A-LR', 'G6solar'): ['r1i1p1f1'],\n",
       " ('MPI-ESM1-2-HR', 'historical'): ['r10i1p1f1',\n",
       "  'r1i1p1f1',\n",
       "  'r2i1p1f1',\n",
       "  'r3i1p1f1',\n",
       "  'r4i1p1f1',\n",
       "  'r5i1p1f1',\n",
       "  'r6i1p1f1',\n",
       "  'r7i1p1f1',\n",
       "  'r8i1p1f1',\n",
       "  'r9i1p1f1'],\n",
       " ('MPI-ESM1-2-HR', 'ssp585'): None,\n",
       " ('MPI-ESM1-2-HR', 'G6sulfur'): ['r1i1p1f1'],\n",
       " ('MPI-ESM1-2-HR', 'G6solar'): ['r1i1p1f1'],\n",
       " ('MPI-ESM1-2-LR', 'historical'): ['r10i1p1f1',\n",
       "  'r1i1p1f1',\n",
       "  'r2i1p1f1',\n",
       "  'r3i1p1f1',\n",
       "  'r4i1p1f1',\n",
       "  'r5i1p1f1',\n",
       "  'r6i1p1f1',\n",
       "  'r7i1p1f1',\n",
       "  'r8i1p1f1',\n",
       "  'r9i1p1f1'],\n",
       " ('MPI-ESM1-2-LR', 'ssp585'): ['r10i1p1f1',\n",
       "  'r1i1p1f1',\n",
       "  'r2i1p1f1',\n",
       "  'r3i1p1f1',\n",
       "  'r4i1p1f1',\n",
       "  'r5i1p1f1',\n",
       "  'r6i1p1f1',\n",
       "  'r7i1p1f1',\n",
       "  'r8i1p1f1',\n",
       "  'r9i1p1f1'],\n",
       " ('MPI-ESM1-2-LR', 'G6sulfur'): ['r1i1p1f1'],\n",
       " ('MPI-ESM1-2-LR', 'G6solar'): ['r1i1p1f1'],\n",
       " ('UKESM1-0-LL', 'historical'): ['r10i1p1f2',\n",
       "  'r11i1p1f2',\n",
       "  'r12i1p1f2',\n",
       "  'r16i1p1f2',\n",
       "  'r17i1p1f2',\n",
       "  'r18i1p1f2',\n",
       "  'r19i1p1f2',\n",
       "  'r1i1p1f2',\n",
       "  'r2i1p1f2',\n",
       "  'r3i1p1f2',\n",
       "  'r4i1p1f2',\n",
       "  'r5i1p1f3',\n",
       "  'r6i1p1f3',\n",
       "  'r7i1p1f3',\n",
       "  'r8i1p1f2',\n",
       "  'r9i1p1f2'],\n",
       " ('UKESM1-0-LL', 'ssp585'): ['r1i1p1f2',\n",
       "  'r2i1p1f2',\n",
       "  'r3i1p1f2',\n",
       "  'r4i1p1f2',\n",
       "  'r8i1p1f2'],\n",
       " ('UKESM1-0-LL', 'G6sulfur'): ['r1i1p1f2', 'r4i1p1f2', 'r8i1p1f2'],\n",
       " ('UKESM1-0-LL', 'G6solar'): ['r1i1p1f2', 'r4i1p1f2', 'r8i1p1f2']}"
      ]
     },
     "execution_count": 39,
     "metadata": {},
     "output_type": "execute_result"
    }
   ],
   "source": [
    "run_dict"
   ]
  },
  {
   "cell_type": "code",
   "execution_count": 40,
   "metadata": {},
   "outputs": [
    {
     "data": {
      "text/plain": [
       "['r10i1p1f2',\n",
       " 'r11i1p1f2',\n",
       " 'r12i1p1f2',\n",
       " 'r16i1p1f2',\n",
       " 'r17i1p1f2',\n",
       " 'r18i1p1f2',\n",
       " 'r19i1p1f2',\n",
       " 'r1i1p1f2',\n",
       " 'r2i1p1f2',\n",
       " 'r3i1p1f2',\n",
       " 'r4i1p1f2',\n",
       " 'r5i1p1f3',\n",
       " 'r6i1p1f3',\n",
       " 'r7i1p1f3',\n",
       " 'r8i1p1f2',\n",
       " 'r9i1p1f2']"
      ]
     },
     "execution_count": 40,
     "metadata": {},
     "output_type": "execute_result"
    }
   ],
   "source": [
    "run_dict['UKESM1-0-LL', 'historical']"
   ]
  },
  {
   "cell_type": "markdown",
   "metadata": {},
   "source": [
    "Nice, there are all the runs for the UKESM1 historical experiment"
   ]
  },
  {
   "cell_type": "markdown",
   "metadata": {},
   "source": [
    "### Let's make a self-contained code-box that does everthing needed to plot results for a single ensemble member for each model (as all have only 1 ensemble member for G6sulfur)"
   ]
  },
  {
   "cell_type": "markdown",
   "metadata": {},
   "source": [
    "ERK. My attempt didn't work at all.\n",
    "\n",
    "Some issues I've discovered:\n",
    "- run names are NOT consistently used across experiments -- how to identify matching runs? Do we need to?\n",
    "- IPSL's time/date is not in the same format as UKESM1 and doesn't have the 'year' attribute I was using to process the data."
   ]
  },
  {
   "cell_type": "markdown",
   "metadata": {},
   "source": [
    "# OK, let's try using some of those new modules"
   ]
  },
  {
   "cell_type": "markdown",
   "metadata": {},
   "source": [
    "### cfplot has a bug, may reinstate later\n",
    "\n",
    "Here's a link to a practical where I run through how to do various edits to the map plots. Some of this will be transferrable to the above xarray examples, some will be specific to cfplot.\n",
    "\n",
    "https://github.com/pjirvine/Principles_Climate_20-21/blob/main/Practical%20Week%204/Practical_Notebook_Week_4_Solution.ipynb\n",
    "https://github.com/pjirvine/Principles_Climate_20-21/blob/main/Practical%20Week%204/Practical_Notebook_Week_4_Workbook.ipynb\n"
   ]
  },
  {
   "cell_type": "code",
   "execution_count": 41,
   "metadata": {},
   "outputs": [],
   "source": [
    "# # Set variables that are common to all experiments.\n",
    "# model='UKESM1-0-LL'\n",
    "# centre='MOHC'\n",
    "# var='pr' \n",
    "# domain='Amon' # pr is an Amon variable.\n",
    "# grid='gn'\n",
    "# season='ANN'\n",
    "\n",
    "# # specify a list of runs\n",
    "# runs=['r1i1p1f2','r4i1p1f2','r8i1p1f2']\n",
    "\n",
    "# # Load G6sulfur ensemble-mean datasets\n",
    "# exp='G6sulfur'\n",
    "# project='GeoMIP'\n",
    "# dates=['2070-01-01','2100-01-01']\n",
    "# ds_G6sulfur_mean, ds_G6sulfur_std = get_ens_seasonal_mean_std(season, dates, data_dir, model, centre, var, domain, exp, project, runs, grid, time_files=1)# setting time files to zero.\n",
    "\n",
    "# lats = ds_G6sulfur_mean.lat.values\n",
    "# lons = ds_G6sulfur_mean.lon.values\n",
    "# plot_data = ds_G6sulfur_mean[var].values\n",
    "\n",
    "# cfp.con(f=plot_data, x=lons, y=lats, ptype=1)"
   ]
  },
  {
   "cell_type": "markdown",
   "metadata": {},
   "source": [
    "I might elaborate this below using stuff from the example but that's for later..."
   ]
  },
  {
   "cell_type": "markdown",
   "metadata": {},
   "source": [
    "### Now, let's try xclim"
   ]
  },
  {
   "cell_type": "code",
   "execution_count": 42,
   "metadata": {},
   "outputs": [
    {
     "name": "stdout",
     "output_type": "stream",
     "text": [
      "['tas_day_UKESM1-0-LL_G6sulfur_r1i1p1f2_gn_20200101-20491230.nc', 'tas_day_UKESM1-0-LL_G6sulfur_r1i1p1f2_gn_20500101-21001230.nc']\n"
     ]
    }
   ],
   "source": [
    "model='UKESM1-0-LL'\n",
    "centre='MOHC'\n",
    "\n",
    "var='tas'\n",
    "domain='day'\n",
    "\n",
    "exp='G6sulfur'\n",
    "project='GeoMIP'\n",
    "\n",
    "run='r1i1p1f2'\n",
    "\n",
    "dates=['2070-01-01','2099-12-30'] # NOTE - UKESM1 has a 360-day calendar with 30-day months\n",
    "# If we specify 2100-01-01 we catch january 1st which is used to calculate the 2100 value.\n",
    "# You'll need to check the calendar used by different models.\n",
    "\n",
    "# Let's fill in the blanks in our directory structure with those variables\n",
    "test_dir = ceda_dir.format(model=model, centre=centre, var=var, domain=domain, exp=exp, project=project, run=run)\n",
    "# os.listdir just performs a normal \"ls\" command on the linux system with the text specified within the parentheses.\n",
    "test_dir_files = os.listdir(test_dir)\n",
    "print(test_dir_files)"
   ]
  },
  {
   "cell_type": "code",
   "execution_count": 43,
   "metadata": {},
   "outputs": [],
   "source": [
    "ds_day = xr.open_dataset(test_dir + test_dir_files[1])"
   ]
  },
  {
   "cell_type": "code",
   "execution_count": 44,
   "metadata": {},
   "outputs": [],
   "source": [
    "gdd = xclim.indices.growing_degree_days(tas=ds_day.tas, thresh='10.0 degC', freq='YS')"
   ]
  },
  {
   "cell_type": "code",
   "execution_count": 45,
   "metadata": {},
   "outputs": [
    {
     "data": {
      "text/plain": [
       "<matplotlib.collections.QuadMesh at 0x7fdc020bb070>"
      ]
     },
     "execution_count": 45,
     "metadata": {},
     "output_type": "execute_result"
    },
    {
     "data": {
      "image/png": "[encoded data removed]",
      "text/plain": [
       "<Figure size 432x288 with 2 Axes>"
      ]
     },
     "metadata": {
      "needs_background": "light"
     },
     "output_type": "display_data"
    }
   ],
   "source": [
    "gdd.mean(dim='time').plot()"
   ]
  },
  {
   "cell_type": "markdown",
   "metadata": {},
   "source": [
    "### that looks about right, The US has a value between 6000 and 2000 Growing degree days."
   ]
  },
  {
   "cell_type": "code",
   "execution_count": 46,
   "metadata": {},
   "outputs": [
    {
     "name": "stdout",
     "output_type": "stream",
     "text": [
      "loading existing files growing_degree_days_day_UKESM1-0-LL_G6solar_r1i1p1f2_gn_2070-01-01_2099-12-30.nc\n"
     ]
    }
   ],
   "source": [
    "model='UKESM1-0-LL'\n",
    "centre='MOHC'\n",
    "\n",
    "var='tas'\n",
    "domain='day'\n",
    "\n",
    "run='r1i1p1f2'\n",
    "\n",
    "dates=['2070-01-01','2099-12-30'] # NOTE - UKESM1 has a 360-day calendar with 30-day months\n",
    "\n",
    "index_name = 'growing_degree_days'\n",
    "\n",
    "# specify the arguments for the xclim index call.\n",
    "index_kwargs={'tas':None, # !!!! THIS None WILL BE REPLACED WITH OUTPUT FROM get_time_slice() !!!!\n",
    "              'thresh':'10.0 degC',\n",
    "              'freq':'YS',\n",
    "             }\n",
    "\n",
    "project='GeoMIP'\n",
    "exp='G6solar'\n",
    "\n",
    "# let's call get_index_series. as it outputs an xarray dataset array let's call our output da_gdd\n",
    "# Note despite the fact we've calculated growing degree days the input variable 'tas' has been used\n",
    "# to name the variable stored in this dataset.\n",
    "da_gdd = get_index_series(dates, data_dir, model, centre, var, domain, exp, project, run, grid, index_name, index_kwargs, time_files=time_files, index_name_file=None, index_args=[], over_write=False)"
   ]
  },
  {
   "cell_type": "code",
   "execution_count": 47,
   "metadata": {},
   "outputs": [
    {
     "data": {
      "text/plain": [
       "<matplotlib.collections.QuadMesh at 0x7fdb4f6ce340>"
      ]
     },
     "execution_count": 47,
     "metadata": {},
     "output_type": "execute_result"
    },
    {
     "data": {
      "image/png": "[encoded data removed]",
      "text/plain": [
       "<Figure size 432x288 with 2 Axes>"
      ]
     },
     "metadata": {
      "needs_background": "light"
     },
     "output_type": "display_data"
    }
   ],
   "source": [
    "# This function returns a dataset so we need to specify the variable so we can plot the data-array inside\n",
    "da_gdd[var].mean(dim='time').plot()"
   ]
  },
  {
   "cell_type": "markdown",
   "metadata": {},
   "source": [
    "### Great, my function worked."
   ]
  },
  {
   "cell_type": "markdown",
   "metadata": {},
   "source": [
    "# If you want to make a table, this bit of code will help."
   ]
  },
  {
   "cell_type": "code",
   "execution_count": 48,
   "metadata": {},
   "outputs": [],
   "source": [
    "var_list = ['a','b'] # the outer_dict will specify the columns: 'a', 'b'\n",
    "metric_list = ['c','d'] # the inner_dict will specify the rows: 'c', 'd'\n",
    "\n",
    "dict_outer = {} # specify an empty dictionary\n",
    "for var in var_list:\n",
    "    dict_inner = {} # refresh / empty this inner dictionary\n",
    "    # this loop would work if you've got one calculation, but if you have \n",
    "    # a list of calculations just get rid of it and run your calculations\n",
    "    # one after the other.\n",
    "    for metric in metric_list:\n",
    "        # dict['key'] = value # is how you add an entry to dictionaries\n",
    "        dict_inner[metric] = 0. # Here you'd replace this with some calculation\n",
    "    dict_outer[var] = dict_inner # fill the outer dictionary with the inner dict.\n",
    "    #end for metric\n",
    "#end for var\n",
    "\n",
    "# Turn the \"nested\" dictionary into a pandas dataframe\n",
    "df = pd.DataFrame.from_dict(dict_outer)\n",
    "# Export the dataframe to a CSV file (can be read by excel, etc.)\n",
    "df.to_csv('test.csv')\n"
   ]
  },
  {
   "cell_type": "markdown",
   "metadata": {},
   "source": [
    "# Let's try some volcano data"
   ]
  },
  {
   "cell_type": "code",
   "execution_count": 49,
   "metadata": {},
   "outputs": [],
   "source": [
    "# The directory where this experiment is stored\n",
    "volc_dir = '/badc/cmip6/data/CMIP6/DCPP/MOHC/HadGEM3-GC31-MM/dcppC-forecast-addPinatubo/s2014-r1i1p1f2/Amon/tas/gn/latest/'\n",
    "\n",
    "# Make a list of all the files in that directory\n",
    "files = os.listdir(volc_dir)\n",
    "\n",
    "# open each of the files in that directory as an xarray\n",
    "ds_list = [xr.open_dataset(volc_dir + FILE) for FILE in files]\n",
    "\n",
    "# stick them all together.\n",
    "ds_volcano = xr.concat(ds_list, dim='time')"
   ]
  },
  {
   "cell_type": "code",
   "execution_count": 50,
   "metadata": {},
   "outputs": [],
   "source": [
    "# The directory where this experiment is stored\n",
    "no_volc_dir = '/badc/cmip6/data/CMIP6/DCPP/MOHC/HadGEM3-GC31-MM/dcppA-hindcast/s2014-r1i1p1f2/Amon/tas/gn/latest/'\n",
    "\n",
    "# Make a list of all the files in that directory\n",
    "files = os.listdir(no_volc_dir)\n",
    "\n",
    "# open each of the files in that directory as an xarray\n",
    "ds_list = [xr.open_dataset(no_volc_dir + FILE) for FILE in files]\n",
    "\n",
    "# stick them all together.\n",
    "ds_no_volcano = xr.concat(ds_list, dim='time')"
   ]
  },
  {
   "cell_type": "markdown",
   "metadata": {},
   "source": [
    "### Rachel, once you've got some other stuff working - try calculating the global-mean temperature using the above datasets then plotting them. you should hopefully see the evolution of the cooling following the eruption, though it'll be very noisy."
   ]
  },
  {
   "cell_type": "code",
   "execution_count": 51,
   "metadata": {},
   "outputs": [
    {
     "name": "stdout",
     "output_type": "stream",
     "text": [
      "loading existing files tas_Amon_HadGEM3-GC31-MM_dcppC-forecast-addPinatubo_ens-mean_gn_2015-07-01_2016-06-30 ANN mean\n",
      "loading existing files tas_Amon_HadGEM3-GC31-MM_dcppA-hindcast_ens-mean_gn_2015-07-01_2016-06-30 ANN mean\n"
     ]
    }
   ],
   "source": [
    "data_dir='/home/users/pjirvine/data/' # !!!!!!!!!!!!! CHANGE THIS !!!!!!!!!!!!!!!!!!\n",
    "\n",
    "model='HadGEM3-GC31-MM' # sister model to UKESM\n",
    "centre='MOHC'\n",
    "\n",
    "var='tas'\n",
    "domain='Amon'\n",
    "\n",
    "exp='dcppC-forecast-addPinatubo' # 'dcppC-forecast-addAgung', 'dcppC-forecast-addElChichon' are the other experiments\n",
    "project='DCPP'\n",
    "\n",
    "# For these volcano runs, the run-name tells you what year it starts in. \n",
    "# The run names match in the \"hindcast\" runs that you'll compare against.\n",
    "# They'll also be the same for all the \"add-<VOLCANO>\" runs.\n",
    "runs=['s2014-r10i1p1f2', 's2014-r2i1p1f2', 's2014-r4i1p1f2', 's2014-r6i1p1f2', 's2014-r8i1p1f2', \n",
    "      's2014-r1i1p1f2', 's2014-r3i1p1f2', 's2014-r5i1p1f2', 's2014-r7i1p1f2', 's2014-r9i1p1f2']\n",
    "\n",
    "grid='gn'\n",
    "\n",
    "season='ANN'\n",
    "dates=['2015-07-01','2016-06-30'] # let's grab 1-year starting 6 months into 2015. FYI this model has 360-days in year so all months have 30 days\n",
    "\n",
    "\"\"\"\n",
    "Let's get the ensemble-mean, time-average for the add-pinatubo run for the year selected + standard deviation around that.\n",
    "\"\"\"\n",
    "add_pinatubo_mean, add_pinatubo_std = get_ens_seasonal_mean_std(season, dates, data_dir, model, centre, var, domain, exp, project, runs, grid, time_files=0)\n",
    "\n",
    "\"\"\"\n",
    "Now let's get the matching hind-cast\n",
    "\"\"\"\n",
    "\n",
    "exp='dcppA-hindcast'\n",
    "\n",
    "# calling it hindcast 2014 to match the year the runs start on.\n",
    "hindcast_2014_mean, hindcast_2014_std = get_ens_seasonal_mean_std(season, dates, data_dir, model, centre, var, domain, exp, project, runs, grid, time_files=0)\n"
   ]
  },
  {
   "cell_type": "code",
   "execution_count": 52,
   "metadata": {},
   "outputs": [
    {
     "data": {
      "text/plain": [
       "<matplotlib.collections.QuadMesh at 0x7fdb4f5be640>"
      ]
     },
     "execution_count": 52,
     "metadata": {},
     "output_type": "execute_result"
    },
    {
     "data": {
      "image/png": "[encoded data removed]",
      "text/plain": [
       "<Figure size 432x288 with 2 Axes>"
      ]
     },
     "metadata": {
      "needs_background": "light"
     },
     "output_type": "display_data"
    }
   ],
   "source": [
    "(add_pinatubo_mean['tas'] - hindcast_2014_mean['tas']).plot()"
   ]
  },
  {
   "cell_type": "markdown",
   "metadata": {},
   "source": [
    "## Great, we have a volcanic signal!\n",
    "\n",
    "Volcanoes cool most places BUT they've also been observed to cause a warming in the arctic too. So our signal looks pretty spot on.\n",
    "\n",
    "### Now, let's get the subtract pinatubo runs and do the same"
   ]
  },
  {
   "cell_type": "code",
   "execution_count": 53,
   "metadata": {},
   "outputs": [
    {
     "name": "stdout",
     "output_type": "stream",
     "text": [
      "loading existing files tas_Amon_HadGEM3-GC31-MM_dcppC-hindcast-noPinatubo_ens-mean_gn_1992-01-01_1992-12-30 ANN mean\n",
      "loading existing files tas_Amon_HadGEM3-GC31-MM_dcppA-hindcast_ens-mean_gn_1992-01-01_1992-12-30 ANN mean\n"
     ]
    }
   ],
   "source": [
    "model='HadGEM3-GC31-MM' # sister model to UKESM\n",
    "centre='MOHC'\n",
    "\n",
    "var='tas'\n",
    "domain='Amon'\n",
    "\n",
    "exp='dcppC-hindcast-noPinatubo' # 'dcppC-hindcast-noAgung', 'dcppC-hindcast-noElChichon' are the other experiments\n",
    "project='DCPP'\n",
    "\n",
    "# Select the runs for 1990 start\n",
    "runs=['s1990-r10i1p1f2','s1990-r2i1p1f2','s1990-r4i1p1f2','s1990-r6i1p1f2','s1990-r8i1p1f2',\n",
    "      's1990-r1i1p1f2','s1990-r3i1p1f2','s1990-r5i1p1f2','s1990-r7i1p1f2','s1990-r9i1p1f2']\n",
    "\n",
    "grid='gn'\n",
    "\n",
    "season='ANN'\n",
    "dates=['1992-01-01','1992-12-30'] # Pinatubo went off in June 15th 1991, so let's just grab all of 1992.\n",
    "\n",
    "\"\"\"\n",
    "Let's get the ensemble-mean, time-average for the add-pinatubo run for the year selected + standard deviation around that.\n",
    "\"\"\"\n",
    "sub_pinatubo_mean, sub_pinatubo_std = get_ens_seasonal_mean_std(season, dates, data_dir, model, centre, var, domain, exp, project, runs, grid, time_files=0)\n",
    "\n",
    "\"\"\"\n",
    "Now let's get the matching hind-cast\n",
    "\"\"\"\n",
    "\n",
    "exp='dcppA-hindcast'\n",
    "\n",
    "# calling it hindcast 1990 to match the year the runs start on.\n",
    "hindcast_1990_mean, hindcast_1990_std = get_ens_seasonal_mean_std(season, dates, data_dir, model, centre, var, domain, exp, project, runs, grid, time_files=0)\n"
   ]
  },
  {
   "cell_type": "code",
   "execution_count": 54,
   "metadata": {},
   "outputs": [
    {
     "data": {
      "text/plain": [
       "<matplotlib.collections.QuadMesh at 0x7fdb4f422040>"
      ]
     },
     "execution_count": 54,
     "metadata": {},
     "output_type": "execute_result"
    },
    {
     "data": {
      "image/png": "[encoded data removed]",
      "text/plain": [
       "<Figure size 432x288 with 2 Axes>"
      ]
     },
     "metadata": {
      "needs_background": "light"
     },
     "output_type": "display_data"
    }
   ],
   "source": [
    "(sub_pinatubo_mean['tas'] - hindcast_1990_mean['tas']).plot()"
   ]
  },
  {
   "cell_type": "markdown",
   "metadata": {},
   "source": [
    "### OK, that looks about right\n",
    "Now we have kind of the opposite pattern (we're subtracting a volcano this time), there's a bit of a sign of a difference at high latitudes but its not as substantial.\n",
    "\n",
    "You'll have to read more about how these runs are set up to interpret this, e.g. are all the runs in the same phase of the el nino / la nina ENSO cycle?"
   ]
  },
  {
   "cell_type": "markdown",
   "metadata": {},
   "source": [
    "# Let's do a simple zonal plot"
   ]
  },
  {
   "cell_type": "code",
   "execution_count": 55,
   "metadata": {},
   "outputs": [
    {
     "data": {
      "text/plain": [
       "Text(0.5, 1.0, 'Temperature response to Pinatubo eruption')"
      ]
     },
     "execution_count": 55,
     "metadata": {},
     "output_type": "execute_result"
    },
    {
     "data": {
      "image/png": "[encoded data removed]",
      "text/plain": [
       "<Figure size 432x288 with 1 Axes>"
      ]
     },
     "metadata": {
      "needs_background": "light"
     },
     "output_type": "display_data"
    }
   ],
   "source": [
    "\"\"\"\n",
    "All the options for fine-tuning this figure can be found by googling around for \"matplotlib plot\" + \"<thing you want to do>\"\n",
    "\"\"\"\n",
    "\n",
    "# Let's subtract the hindcast (with pinatubo) from the simulation without to see the effect of pinatubo.\n",
    "plot_data = hindcast_1990_mean['tas'].mean(dim='lon').values - sub_pinatubo_mean['tas'].mean(dim='lon').values \n",
    "# we can do a simple zonal mean as all points on the same longitude have the same area.\n",
    "\n",
    "plot_lats = sub_pinatubo_mean['tas'].lat.values\n",
    "# .values will return the numpy array containing the data without any of the metadata, like dimension names, etc.\n",
    "\n",
    "# Now we specify the x and y data for the line plot:\n",
    "plt.plot(plot_lats, plot_data)\n",
    "\n",
    "# you can add multiple lines with repeated calls to plt.plot() with different data.\n",
    "\n",
    "# and set our plot limits\n",
    "plt.xlim([-90,90])\n",
    "plt.ylim([-0.8,0])\n",
    "plt.ylabel('Temperature change (K)')\n",
    "plt.xlabel('Latitude (degrees)')\n",
    "plt.title('Temperature response to Pinatubo eruption')"
   ]
  },
  {
   "cell_type": "markdown",
   "metadata": {},
   "source": [
    "nice!"
   ]
  },
  {
   "cell_type": "markdown",
   "metadata": {},
   "source": [
    "# Right, let's plot a timeseries"
   ]
  },
  {
   "cell_type": "code",
   "execution_count": 56,
   "metadata": {},
   "outputs": [],
   "source": [
    "data_dir='/home/users/pjirvine/data/' # !!!!!!!!!!!!! CHANGE THIS !!!!!!!!!!!!!!!!!!\n",
    "\n",
    "model='HadGEM3-GC31-MM' # sister model to UKESM\n",
    "centre='MOHC'\n",
    "\n",
    "var='tas'\n",
    "domain='Amon'\n",
    "\n",
    "exp='dcppC-forecast-addPinatubo' # 'dcppC-forecast-addAgung', 'dcppC-forecast-addElChichon' are the other experiments\n",
    "project='DCPP'\n",
    "\n",
    "# For these volcano runs, the run-name tells you what year it starts in. \n",
    "# The run names match in the \"hindcast\" runs that you'll compare against.\n",
    "# They'll also be the same for all the \"add-<VOLCANO>\" runs.\n",
    "runs=['s2014-r10i1p1f2', 's2014-r2i1p1f2', 's2014-r4i1p1f2', 's2014-r6i1p1f2', 's2014-r8i1p1f2', \n",
    "      's2014-r1i1p1f2', 's2014-r3i1p1f2', 's2014-r5i1p1f2', 's2014-r7i1p1f2', 's2014-r9i1p1f2']\n",
    "\n",
    "grid='gn'\n",
    "\n",
    "season='ANN'\n",
    "\n",
    "# let's get the area and land mask\n",
    "ds_area, ds_land_mask = get_fixed(centre, model)\n",
    "\n",
    "# we'll use the area-weight to calculate the global-mean change\n",
    "weight = ds_area['areacella'] / np.sum(ds_area['areacella']) # We divide by total so it sums to 1.\n",
    "\n",
    "# get the add pinatubo run\n",
    "ds_add_pinatubo = get_all_time_ens(model, centre, var, domain, exp, project, runs, grid)\n",
    "\n",
    "# average over all runs\n",
    "pinatubo_ens_mean = ds_add_pinatubo[var].mean((\"run\"))\n",
    "\n",
    "# sum the product of weight and variable over all lons and lats. then record results as numpy array\n",
    "pinatubo_timeseries = (weight * pinatubo_ens_mean).sum((\"lon\",\"lat\")).values\n",
    "\n",
    "# get the hindcast\n",
    "exp='dcppA-hindcast'\n",
    "ds_hindcast_1990 = get_all_time_ens(model, centre, var, domain, exp, project, runs, grid)\n",
    "\n",
    "hindcast_ens_mean = ds_hindcast_1990[var].mean((\"run\"))\n",
    "\n",
    "hindcast_timeseries = (weight * hindcast_ens_mean).sum((\"lon\",\"lat\")).values\n",
    "\n",
    "time = ds_hindcast_1990[var].time.values"
   ]
  },
  {
   "cell_type": "code",
   "execution_count": 57,
   "metadata": {},
   "outputs": [
    {
     "data": {
      "text/plain": [
       "(0.0, 120.0)"
      ]
     },
     "execution_count": 57,
     "metadata": {},
     "output_type": "execute_result"
    },
    {
     "data": {
      "image/png": "[encoded data removed]",
      "text/plain": [
       "<Figure size 432x288 with 1 Axes>"
      ]
     },
     "metadata": {
      "needs_background": "light"
     },
     "output_type": "display_data"
    }
   ],
   "source": [
    "# calculate months since start, note the actual time values didn't plot\n",
    "plot_time = [idx + 1 for idx in range(len(time))] \n",
    "plt.plot(plot_time, pinatubo_timeseries - hindcast_timeseries)\n",
    "plt.xlim([0,120])"
   ]
  },
  {
   "cell_type": "markdown",
   "metadata": {},
   "source": [
    "Noisy but the cooling signal is there! Which month did Pinatubo go off? Was it jan 1990, month 1?"
   ]
  },
  {
   "cell_type": "markdown",
   "metadata": {},
   "source": [
    "# Fraction Plot(s)"
   ]
  },
  {
   "cell_type": "markdown",
   "metadata": {},
   "source": [
    "# Stack of fraction plots"
   ]
  },
  {
   "cell_type": "code",
   "execution_count": 58,
   "metadata": {},
   "outputs": [
    {
     "data": {
      "image/png": "[encoded data removed]",
      "text/plain": [
       "<Figure size 432x288 with 1 Axes>"
      ]
     },
     "metadata": {
      "needs_background": "light"
     },
     "output_type": "display_data"
    }
   ],
   "source": [
    "# Define colours\n",
    "red = '#ff0000'\n",
    "l_red = '#ffc0c0' # old: '#ffd9d9'\n",
    "blue = '#0066ff'\n",
    "l_blue = '#c0c0ff' # old:'#b2d0ff'\n",
    "\n",
    "color_list = [red, l_red, l_blue, blue]\n",
    "\n",
    "\"\"\"\n",
    "Generate some fake data\n",
    "\"\"\"\n",
    "\n",
    "# 20 sets of fake data\n",
    "num_fractions = 20\n",
    "\n",
    "def fraction_maker():\n",
    "    fractions_rand = list(np.random.rand(4))\n",
    "    fraction_total = sum(fractions_rand)\n",
    "    fractions = [F/fraction_total for F in fractions_rand]\n",
    "    return fractions\n",
    "\n",
    "fraction_stack = []\n",
    "label_stack = []\n",
    "\n",
    "for idx in range(num_fractions):\n",
    "    label_stack.append('stack ' + str(idx))\n",
    "    fraction_stack.append(fraction_maker())\n",
    "   \n",
    "\"\"\"\n",
    "Plot the data\n",
    "\"\"\"\n",
    "\n",
    "fig, ax = plt.subplots()\n",
    "\n",
    "box_fraction_stack(ax, fraction_stack, label_stack, color_list)\n",
    "\n",
    "ax.get_xaxis().set_visible(False)"
   ]
  },
  {
   "cell_type": "markdown",
   "metadata": {},
   "source": [
    "# Rack of vertical fraction plots"
   ]
  },
  {
   "cell_type": "code",
   "execution_count": 59,
   "metadata": {},
   "outputs": [
    {
     "data": {
      "image/png": "[encoded data removed]",
      "text/plain": [
       "<Figure size 432x288 with 1 Axes>"
      ]
     },
     "metadata": {
      "needs_background": "light"
     },
     "output_type": "display_data"
    }
   ],
   "source": [
    "# Define colours\n",
    "red = '#ff0000'\n",
    "l_red = '#ffc0c0' # old: '#ffd9d9'\n",
    "blue = '#0066ff'\n",
    "l_blue = '#c0c0ff' # old:'#b2d0ff'\n",
    "\n",
    "color_list = [red, l_red, l_blue, blue]\n",
    "\n",
    "\"\"\"\n",
    "Generate some fake data\n",
    "\"\"\"\n",
    "\n",
    "# 20 sets of fake data\n",
    "num_fractions = 20\n",
    "\n",
    "def fraction_maker():\n",
    "    fractions_rand = list(np.random.rand(4))\n",
    "    fraction_total = sum(fractions_rand)\n",
    "    fractions = [F/fraction_total for F in fractions_rand]\n",
    "    return fractions\n",
    "\n",
    "fraction_rack = []\n",
    "label_rack = []\n",
    "\n",
    "for idx in range(num_fractions):\n",
    "    label_rack.append('rack ' + str(idx))\n",
    "    fraction_rack.append(fraction_maker())\n",
    "   \n",
    "\"\"\"\n",
    "Plot the data\n",
    "\"\"\"\n",
    "\n",
    "fig, ax = plt.subplots()\n",
    "\n",
    "box_fraction_rack(ax, fraction_rack, label_rack, color_list)\n",
    "\n",
    "ax.get_yaxis().set_visible(False)"
   ]
  },
  {
   "cell_type": "markdown",
   "metadata": {},
   "source": [
    "# Stacked, racked fraction plots"
   ]
  },
  {
   "cell_type": "code",
   "execution_count": 60,
   "metadata": {},
   "outputs": [
    {
     "data": {
      "image/png": "[encoded data removed]",
      "text/plain": [
       "<Figure size 432x288 with 1 Axes>"
      ]
     },
     "metadata": {
      "needs_background": "light"
     },
     "output_type": "display_data"
    }
   ],
   "source": [
    "\"\"\"\n",
    "Generate some more fake data\n",
    "\"\"\"\n",
    "\n",
    "# 20 sets of fake data\n",
    "num_stacks = 20\n",
    "num_racks = 15\n",
    "\n",
    "fraction_stacks = []\n",
    "label_stack = []\n",
    "label_rack = []\n",
    "\n",
    "for idx in range(num_stacks):\n",
    "    label_stack.append('stack ' + str(idx))\n",
    "\n",
    "for idx in range(num_racks):\n",
    "    label_rack.append('rack ' + str(idx))\n",
    "    \n",
    "    fraction_stack = []\n",
    "    for idx in range(num_stacks):\n",
    "        fraction_stack.append(fraction_maker())\n",
    "        \n",
    "    fraction_stacks.append(fraction_stack)\n",
    "    \n",
    "\"\"\"\n",
    "Plot the data\n",
    "\"\"\"\n",
    "\n",
    "fig, ax = plt.subplots()\n",
    "\n",
    "box_fraction_stack_rack(ax, fraction_stacks, label_stack, label_rack, color_list)\n",
    "\n",
    "# ax.get_xaxis().set_visible(False)"
   ]
  },
  {
   "cell_type": "markdown",
   "metadata": {},
   "source": [
    "# Let's try out my efficacy metric on the GLENS geoengineering experiment\n",
    "\n",
    "I'll start by trying this out on some different data: the GLENS geoengineering experiment"
   ]
  },
  {
   "cell_type": "code",
   "execution_count": 61,
   "metadata": {},
   "outputs": [],
   "source": [
    "# run_list = ['001','002','003','021']\n",
    "\n",
    "# var_list = ['TREFHT','TREFHTMX','PRECT','P-E','PRECTMX']\n",
    "\n",
    "# exp_list = ['control','feedback']\n",
    "\n",
    "# date_dict = {'control':'201001-209912', 'feedback':'202001-209912'}"
   ]
  },
  {
   "cell_type": "code",
   "execution_count": 62,
   "metadata": {},
   "outputs": [],
   "source": [
    "# def get_glens_ds(exp, var, run):\n",
    "#     \"\"\"\n",
    "#     Only works for the runs that match the date_dict, i.e. not the short control runs.\n",
    "#     \"\"\"\n",
    "#     # the date ranges that go with each experiment\n",
    "#     date_dict = {'control':'201001-209912', 'feedback':'202001-209912'}\n",
    "\n",
    "#     # specify the directory and file path\n",
    "#     glens_dir = '/home/users/pjirvine/projects/GLENS_fraction_better_off/glens_data/'\n",
    "#     glens_file = '{exp}.{run}.cam.h0.{var}.ann.{date_range}.nc'.format(exp=exp, var=var, run=run, date_range=date_dict[exp])\n",
    "#     fpath = glens_dir + glens_file\n",
    "\n",
    "#     # open the netcdf with xarray\n",
    "#     ds = xr.open_dataset(fpath)\n",
    "    \n",
    "#     # return ds\n",
    "#     return ds\n",
    "# # end def\n",
    "\n",
    "# def get_glens_mean_std(exp, var, run, time_slice):\n",
    "\n",
    "#     # Get the glens ds\n",
    "#     ds = get_glens_ds(exp, var, run)\n",
    "\n",
    "#     # take the time slice\n",
    "#     ds_tslice = ds.sel(time=slice(time_slice[0],time_slice[1]))\n",
    "\n",
    "#     # calculate time mean and std\n",
    "#     ds_mean = ds_tslice.mean(dim='time')\n",
    "#     ds_std = ds_tslice.std(dim='time')\n",
    "\n",
    "#     # return mean and std\n",
    "#     return ds_mean, ds_std\n",
    "# # end def\n",
    "\n",
    "# def get_glens_zonal_mean_std(exp, var, run, time_slice):\n",
    "\n",
    "#     # Get the glens ds\n",
    "#     ds = get_glens_ds(exp, var, run)\n",
    "\n",
    "#     # take the time slice\n",
    "#     ds_tslice = ds.sel(time=slice(time_slice[0],time_slice[1]))\n",
    "\n",
    "#     ds_zonal = ds_tslice.mean(dim='lon')\n",
    "    \n",
    "#     # calculate time mean and std\n",
    "#     ds_zonal_mean = ds_zonal.mean(dim='time')\n",
    "#     ds_zonal_std = ds_zonal.std(dim='time')\n",
    "\n",
    "#     # return mean and std\n",
    "#     return ds_zonal_mean, ds_zonal_std\n",
    "# # end def\n",
    "\n",
    "# def efficacy(control_mean, GHG_mean, SG_mean, denom_min=None):\n",
    "    \n",
    "#     # define numerator and denominator\n",
    "#     numerator = GHG_mean - SG_mean\n",
    "#     denom = GHG_mean - control_mean\n",
    "    \n",
    "#     # apply denom_min if set\n",
    "#     if denom_min is not None:\n",
    "#         if type(control_mean) is xr.core.dataarray.DataArray:\n",
    "#             denom.where(denom > denom_min, denom_min)\n",
    "#             print('xarray')\n",
    "#         elif type(control_mean) is np.ndarray:\n",
    "#             denom = np.where(abs(denom) > denom_min, denom, denom_min)\n",
    "#             print('np array')\n",
    "#         else:\n",
    "#             print(type(control_mean))\n",
    "#             print('type must be numpy array or xarray data array')\n",
    "#             return\n",
    "    \n",
    "#     #calculate then return\n",
    "#     eff = numerator / denom\n",
    "#     return eff\n",
    "# # end def"
   ]
  },
  {
   "cell_type": "code",
   "execution_count": 63,
   "metadata": {},
   "outputs": [],
   "source": [
    "# # get_glens_annual_mean_std(exp, run, var, time_slice):\n",
    "\n",
    "# run = '001'\n",
    "# dates_end = ['2075-01-01','2095-01-01']\n",
    "# dates_start = ['2010-01-01','2030-01-01']\n",
    "\n",
    "# fig = plt.figure(figsize=(9,6))\n",
    "\n",
    "# \"\"\"\n",
    "# First plot T anomalies\n",
    "# \"\"\"\n",
    "\n",
    "# var = 'TREFHT'\n",
    "\n",
    "# SSP585_mean, SSP585_std = get_glens_zonal_mean_std('control', var, run, dates_end)\n",
    "# base_mean, base_std = get_glens_zonal_mean_std('control', var, run, dates_start)\n",
    "# GLENS_mean, GLENS_std = get_glens_zonal_mean_std('feedback', var, run, dates_end)\n",
    "\n",
    "# # Create a multi-panel plot with 3 rows, and This plot goes into the first position, counting top-left to bottom right.\n",
    "# # The code: (3, 1, 1) = (3 rows, 1 column, position 1)\n",
    "# ax1 = plt.subplot(2, 2, 1)\n",
    "\n",
    "# # SSP5-8.5 anomaly\n",
    "# plot_data = SSP585_mean[var] - base_mean[var]\n",
    "# ax1.plot(plot_data['lat'], plot_data, color='r')\n",
    "\n",
    "# # GLENS anomaly\n",
    "# plot_data = GLENS_mean[var] - base_mean[var]\n",
    "# ax1.plot(plot_data['lat'], plot_data, color='b')\n",
    "\n",
    "# #zero line\n",
    "# ax1.plot(plot_data['lat'], np.zeros(plot_data['lat'].shape), color='k')\n",
    "\n",
    "# # create second subplot for efficacy\n",
    "# ax2 = plt.subplot(2, 2, 3)\n",
    "\n",
    "# eff = efficacy(base_mean[var], SSP585_mean[var], GLENS_mean[var])\n",
    "# eff_min = efficacy(base_mean[var], SSP585_mean[var], GLENS_mean[var], denom_min=0.5)\n",
    "\n",
    "# ax2.plot(plot_data['lat'], eff, color='k')\n",
    "# ax2.plot(plot_data['lat'], eff_min, color='k', linestyle='dashed')\n",
    "\n",
    "# #zero line\n",
    "# ax2.plot(plot_data['lat'], np.zeros(plot_data['lat'].shape), color='k')\n",
    "\n",
    "# \"\"\"\n",
    "# Then plot P anomalies\n",
    "# \"\"\"\n",
    "\n",
    "# var = 'PRECT'\n",
    "# pr_convert = 86400. * 1000.\n",
    "\n",
    "# SSP585_mean, SSP585_std = get_glens_zonal_mean_std('control', var, run, dates_end)\n",
    "# base_mean, base_std = get_glens_zonal_mean_std('control', var, run, dates_start)\n",
    "# GLENS_mean, GLENS_std = get_glens_zonal_mean_std('feedback', var, run, dates_end)\n",
    "\n",
    "# # Create a multi-panel plot with 3 rows, and This plot goes into the first position, counting top-left to bottom right.\n",
    "# # The code: (3, 1, 1) = (3 rows, 1 column, position 1)\n",
    "# ax3 = plt.subplot(2, 2, 2)\n",
    "\n",
    "# # SSP5-8.5 anomaly\n",
    "# plot_data = pr_convert * (SSP585_mean[var] - base_mean[var])\n",
    "# ax3.plot(plot_data['lat'], plot_data, color='r')\n",
    "\n",
    "# # GLENS anomaly\n",
    "# plot_data = pr_convert * (GLENS_mean[var] - base_mean[var])\n",
    "# ax3.plot(plot_data['lat'], plot_data, color='b')\n",
    "\n",
    "# #zero line\n",
    "# ax3.plot(plot_data['lat'], np.zeros(plot_data['lat'].shape), color='k')\n",
    "\n",
    "# # create second subplot\n",
    "# ax4 = plt.subplot(2, 2, 4)\n",
    "\n",
    "# eff = efficacy(base_mean[var], SSP585_mean[var], GLENS_mean[var])\n",
    "# eff_min = efficacy(pr_convert * base_mean[var].values, pr_convert * SSP585_mean[var].values, pr_convert * GLENS_mean[var].values, denom_min=0.1)\n",
    "\n",
    "# ax4.plot(plot_data['lat'], eff, color='k')\n",
    "# ax4.plot(plot_data['lat'], eff_min, color='r')\n",
    "\n",
    "# #zero line\n",
    "# ax4.plot(plot_data['lat'], np.zeros(plot_data['lat'].shape), color='k')"
   ]
  },
  {
   "cell_type": "code",
   "execution_count": 64,
   "metadata": {},
   "outputs": [],
   "source": [
    "# plot_data['lat'].shape"
   ]
  },
  {
   "cell_type": "code",
   "execution_count": 65,
   "metadata": {},
   "outputs": [],
   "source": [
    "# type(SSP585_mean[var].values)"
   ]
  },
  {
   "cell_type": "code",
   "execution_count": 66,
   "metadata": {},
   "outputs": [],
   "source": [
    "# eff_min"
   ]
  },
  {
   "cell_type": "code",
   "execution_count": null,
   "metadata": {},
   "outputs": [],
   "source": []
  }
 ],
 "metadata": {
  "kernelspec": {
   "display_name": "climate_39",
   "language": "python",
   "name": "climate_39"
  },
  "language_info": {
   "codemirror_mode": {
    "name": "ipython",
    "version": 3
   },
   "file_extension": ".py",
   "mimetype": "text/x-python",
   "name": "python",
   "nbconvert_exporter": "python",
   "pygments_lexer": "ipython3",
   "version": "3.9.5"
  }
 },
 "nbformat": 4,
 "nbformat_minor": 4
}
